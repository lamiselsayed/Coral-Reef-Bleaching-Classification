{
 "cells": [
  {
   "cell_type": "markdown",
   "id": "191c73ef",
   "metadata": {},
   "source": [
    "# CMP466 Project: Coral Reef Bleaching Classification\n",
    "*       Dataset Name: A Global Coral-Bleaching Database, 1980-2020\n",
    "\n",
    "*       I. Data Cleaning and Preprocessing\n",
    "*       II. Machine Learning Methods\n",
    "*               a. Decision Tree Classifier\n",
    "*               b. K-Nearest Neighbors (KNN) Classifier\n",
    "*               c. Naive-Bayes Classifier\n",
    "*               d. Support Vector Machine (SVM) Classifer - Linear & Non-Linear"
   ]
  },
  {
   "cell_type": "code",
   "execution_count": 197,
   "metadata": {},
   "outputs": [],
   "source": [
    "#ALL IMPORTS\n",
    "import pandas as pd\n",
    "import numpy as np\n",
    "import matplotlib.pyplot as plt\n",
    "import seaborn as sns\n",
    "\n",
    "from sklearn import preprocessing \n",
    "from sklearn.preprocessing import KBinsDiscretizer\n",
    "from sklearn.preprocessing import OrdinalEncoder\n",
    "from sklearn.preprocessing import OneHotEncoder\n",
    "\n",
    "from imblearn.under_sampling import RandomUnderSampler\n",
    "from imblearn.combine import SMOTETomek\n",
    "from imblearn.combine import SMOTEENN\n",
    "from collections import Counter\n",
    "\n",
    "from sklearn.feature_selection import SelectPercentile, f_classif\n",
    "from sklearn.model_selection import train_test_split\n",
    "\n",
    "from sklearn.tree import DecisionTreeClassifier"
   ]
  },
  {
   "cell_type": "markdown",
   "id": "db422574",
   "metadata": {},
   "source": [
    "### I. Cleaning & Preprocessing the Dataset"
   ]
  },
  {
   "cell_type": "code",
   "execution_count": 198,
   "id": "96487281",
   "metadata": {},
   "outputs": [],
   "source": [
    "dtype_options = {\n",
    "    'Distance_to_Shore' : 'object',\n",
    "    'Turbidity' : 'object',\n",
    "    'Percent_Bleaching' : 'object'\n",
    "}  # these features contain values that are either numerical or strings, so we need to change it to Object before proceeding\n",
    "\n",
    "myfilepath = r'global_bleaching_environmental.csv'"
   ]
  },
  {
   "cell_type": "code",
   "execution_count": 199,
   "id": "c686c04a",
   "metadata": {},
   "outputs": [],
   "source": [
    "df = pd.read_csv(myfilepath, dtype = dtype_options)"
   ]
  },
  {
   "cell_type": "code",
   "execution_count": 200,
   "id": "85e702fd",
   "metadata": {},
   "outputs": [],
   "source": [
    "#display(df)\n",
    "#df.describe()       # data summary (original dataset without cleaning)\n",
    "#df.info()           # non-null count is equal to the number of records because the empty cells are labelled as 'nd', not as null or NaN (doesn't recognize it)\n",
    "#df.nunique()           # returns an int value representing the number of unique values (applied to all columns)\n",
    "#df.isnull()         # we're getting all 'False' because it doesn't recognize 'nd' as null"
   ]
  },
  {
   "cell_type": "markdown",
   "id": "5e2224c3",
   "metadata": {},
   "source": [
    "#### Identifying Columns/Records with 'nd' "
   ]
  },
  {
   "cell_type": "code",
   "execution_count": 201,
   "id": "a2588302",
   "metadata": {},
   "outputs": [
    {
     "data": {
      "text/plain": [
       "Percent_Bleaching\n",
       "0        16607\n",
       "5.5       1184\n",
       "75         914\n",
       "0.25       882\n",
       "1          705\n",
       "         ...  \n",
       "5.32         1\n",
       "5.28         1\n",
       "5.27         1\n",
       "5.23         1\n",
       "97.22        1\n",
       "Name: count, Length: 2271, dtype: int64"
      ]
     },
     "execution_count": 201,
     "metadata": {},
     "output_type": "execute_result"
    }
   ],
   "source": [
    " # first, drop any record with no target\n",
    "\n",
    "df_new1 = df[df['Percent_Bleaching'] != 'nd']\n",
    "df_new1['Percent_Bleaching'].value_counts()"
   ]
  },
  {
   "cell_type": "code",
   "execution_count": 202,
   "id": "b4d3ed71",
   "metadata": {},
   "outputs": [
    {
     "data": {
      "text/plain": [
       "(34515, 62)"
      ]
     },
     "execution_count": 202,
     "metadata": {},
     "output_type": "execute_result"
    }
   ],
   "source": [
    "df_new1.shape            # now, the dataset is composed of 34515 records with the number of columns unchanged"
   ]
  },
  {
   "cell_type": "code",
   "execution_count": 203,
   "id": "362b1db2",
   "metadata": {},
   "outputs": [
    {
     "name": "stdout",
     "output_type": "stream",
     "text": [
      "['Reef_ID', 'Site_Name', 'Substrate_Name', 'Percent_Cover', 'Bleaching_Level', 'Site_Comments', 'Sample_Comments', 'Bleaching_Comments']\n"
     ]
    }
   ],
   "source": [
    "# identify any columns with 'nd' occupying more than 10% of its rows\n",
    "\n",
    "cols1 = df_new1.columns.values   # cols contains the columns names as a list\n",
    "cols1_to_drop = []               # store columns to drop in this list\n",
    "for c in cols1:                  # iterate through each value belonging to the columns and search for those columns with more than 10% of its rows as 'nd' \n",
    "    ndCount = (df_new1[c] == 'nd').sum()         \n",
    "    if ndCount > 0.1 * df_new1.shape[0]:\n",
    "        cols1_to_drop.append(c)\n",
    "print(cols1_to_drop)            # Output: ['Reef_ID', 'Site_Name', 'Substrate_Name', 'Percent_Cover', 'Bleaching_Level', 'Site_Comments', 'Sample_Comments', 'Bleaching_Comments']\n",
    "                                # To check the values of Bleaching_Level --> df_new['Bleaching_Level'].value_counts()"
   ]
  },
  {
   "cell_type": "code",
   "execution_count": 204,
   "id": "f4bd7247",
   "metadata": {},
   "outputs": [
    {
     "data": {
      "text/plain": [
       "18"
      ]
     },
     "execution_count": 204,
     "metadata": {},
     "output_type": "execute_result"
    }
   ],
   "source": [
    "cols1_to_drop.extend(['SSTA_Mean', 'Data_Source', 'Country_Name', 'State_Island_Province_Name', 'City_Town_Name', 'Date', 'Date_Day', 'Date_Month', 'Date_Year', 'Site_ID'])\n",
    "len(cols1_to_drop)    # we added irrelevant or completely zero columns to remove as well"
   ]
  },
  {
   "cell_type": "code",
   "execution_count": 205,
   "id": "32d61872",
   "metadata": {},
   "outputs": [],
   "source": [
    "# now, drop the identified columns/features\n",
    "\n",
    "df_new2 = df_new1.drop(columns = cols1_to_drop)   \n",
    "#display(df_new2)"
   ]
  },
  {
   "cell_type": "code",
   "execution_count": 206,
   "id": "ad3f950b",
   "metadata": {},
   "outputs": [
    {
     "data": {
      "text/plain": [
       "(34515, 44)"
      ]
     },
     "execution_count": 206,
     "metadata": {},
     "output_type": "execute_result"
    }
   ],
   "source": [
    "df_new2.shape                   # now, the dataset is composed of 34515 records and 54 columns (including target)  "
   ]
  },
  {
   "cell_type": "code",
   "execution_count": 207,
   "id": "fb9ec08a",
   "metadata": {},
   "outputs": [],
   "source": [
    "df_new3 = df_new2.replace('nd', np.nan).dropna()       # remove any records with 'nd'\n",
    "#df_new3"
   ]
  },
  {
   "cell_type": "code",
   "execution_count": 208,
   "id": "0de06622",
   "metadata": {},
   "outputs": [],
   "source": [
    "#df_new3.replace('nd', np.nan).isnull().sum()      # checking that all columns now have no null values"
   ]
  },
  {
   "cell_type": "markdown",
   "id": "d0d958b1",
   "metadata": {},
   "source": [
    "#### Checking Collinearity\n",
    "\n",
    "TODO:\n",
    "* Go over all features and see which ones have mixed data types (find a way to check data types for individual vals of the column)\n",
    "* We can follow the paper, where any features with a collinearity coefficient higher than 0.8 are dropped\n",
    "*       Some features mentioned in the paper are TSA_DHW and wind speed\n",
    "* Features Highly Correlated with Coral Bleaching (As Indicated in Paper):\n",
    "*       SST, SSTA, Coral Depth, Longitude, Latitude      \n"
   ]
  },
  {
   "cell_type": "code",
   "execution_count": 209,
   "id": "3ecd5e28",
   "metadata": {},
   "outputs": [],
   "source": [
    "# identify all columns of data type 'object'\n",
    "object_columns = df_new3.select_dtypes(include = ['object'])\n",
    "#object_columns.info()"
   ]
  },
  {
   "cell_type": "code",
   "execution_count": 210,
   "id": "3f10bec7",
   "metadata": {},
   "outputs": [],
   "source": [
    "notFloat_cols = ['Ocean_Name', 'Realm_Name', 'Ecoregion_Name', 'Exposure']\n",
    "float_cols = [col for col in object_columns if col not in notFloat_cols]\n",
    "df_new4 = df_new3\n",
    "df_new4[float_cols] = df_new3[float_cols].astype(float)\n",
    "#df_new4.info()"
   ]
  },
  {
   "cell_type": "code",
   "execution_count": 211,
   "id": "be9d29d3",
   "metadata": {},
   "outputs": [],
   "source": [
    "df_new4[notFloat_cols] = df_new4[notFloat_cols].astype('string')\n",
    "#df_new4.info()"
   ]
  },
  {
   "cell_type": "code",
   "execution_count": 212,
   "id": "39f8ac80",
   "metadata": {},
   "outputs": [],
   "source": [
    "#df_new4.corr(numeric_only = True)      # correlation matrix\n",
    "#sns.heatmap(df_new4.corr(numeric_only = True), cmap = 'RdBu')"
   ]
  },
  {
   "cell_type": "markdown",
   "id": "3b9d1f9a",
   "metadata": {},
   "source": [
    "#### Next Step is to Encode Features\n",
    "*     Exposure -> ordinal (integer encoding) \n",
    "*           df_new4['Exposure'].nunique() -> 3\n",
    "*     Ocean Name -> nominal (one-hot encoding)\n",
    "*     Other Names -> nominal (one-hot encoding)\n"
   ]
  },
  {
   "cell_type": "code",
   "execution_count": 213,
   "id": "f2523414",
   "metadata": {},
   "outputs": [],
   "source": [
    "df_new5 = df_new4"
   ]
  },
  {
   "cell_type": "code",
   "execution_count": 214,
   "id": "c2411828",
   "metadata": {},
   "outputs": [],
   "source": [
    "ordinal_encoder = OrdinalEncoder()\n",
    "df_new5[['Exposure']] = ordinal_encoder.fit_transform(df_new5[['Exposure']])        # for reference: 0.0 is Exposed, 1.0 is Sheltered, 2.0 is Sometimes"
   ]
  },
  {
   "cell_type": "code",
   "execution_count": 215,
   "id": "02998e24",
   "metadata": {},
   "outputs": [],
   "source": [
    "encodedCols = ['Ocean_Name', 'Ecoregion_Name', 'Realm_Name']       # 5 cols for Ocean, 8 for Realm, 100 for Ecoregeion\n",
    "df_new6 = pd.get_dummies(df_new5, columns=encodedCols).astype(int)\n",
    "#display(df_new6)"
   ]
  },
  {
   "cell_type": "markdown",
   "id": "f9f48505",
   "metadata": {},
   "source": [
    "##### So far (as of df_new6) we have 32675 records, and 154 columns\n",
    "42 features total + 1 label column\\\n",
    "113 of the cols are OHE for 3 features\\\n",
    "during model training we will feed 152 features (removing the sample ID)"
   ]
  },
  {
   "cell_type": "markdown",
   "id": "a9a06fb0",
   "metadata": {},
   "source": [
    "##### Discretizing Target Percent Bleaching"
   ]
  },
  {
   "cell_type": "code",
   "execution_count": 216,
   "id": "1350a5f5",
   "metadata": {},
   "outputs": [
    {
     "data": {
      "text/plain": [
       "Percent_Bleaching\n",
       "0     19111\n",
       "1      2065\n",
       "5      1563\n",
       "2      1167\n",
       "3       721\n",
       "      ...  \n",
       "94       10\n",
       "79        9\n",
       "97        7\n",
       "84        6\n",
       "99        2\n",
       "Name: count, Length: 101, dtype: int64"
      ]
     },
     "execution_count": 216,
     "metadata": {},
     "output_type": "execute_result"
    }
   ],
   "source": [
    "df_new6['Percent_Bleaching'].value_counts()"
   ]
  },
  {
   "cell_type": "markdown",
   "metadata": {},
   "source": [
    "#### Feature Selection Before Discretization"
   ]
  },
  {
   "cell_type": "code",
   "execution_count": 217,
   "metadata": {},
   "outputs": [],
   "source": [
    "#df_new9 = df_new6\n",
    "\n",
    "#y = df_new9['Percent_Bleaching'].to_numpy()\n",
    "#X = df_new9.drop(columns=['Sample_ID', 'Percent_Bleaching']).to_numpy()\n",
    "\n",
    "\n",
    "#X_new = SelectPercentile(f_classif, percentile = 50).fit_transform(X, y)\n",
    "\n",
    "#X_train, X_test, y_train, y_test = train_test_split(X_new, y, test_size=0.20, random_state=42)\n",
    "\n",
    "#coral_DT = DecisionTreeClassifier()\n",
    "#coral_DT.fit(X_train, y_train)\n",
    "\n",
    "#print(coral_DT.score(X_train, y_train))\n",
    "#print(coral_DT.score(X_test, y_test))"
   ]
  },
  {
   "cell_type": "markdown",
   "metadata": {},
   "source": [
    "# Graph Discretized Bins vs Accuracy"
   ]
  },
  {
   "cell_type": "code",
   "execution_count": 218,
   "metadata": {},
   "outputs": [
    {
     "name": "stderr",
     "output_type": "stream",
     "text": [
      "C:\\Users\\user\\AppData\\Local\\Packages\\PythonSoftwareFoundation.Python.3.11_qbz5n2kfra8p0\\LocalCache\\local-packages\\Python311\\site-packages\\sklearn\\preprocessing\\_discretization.py:248: FutureWarning: In version 1.5 onwards, subsample=200_000 will be used by default. Set subsample explicitly to silence this warning in the mean time. Set subsample=None to disable subsampling explicitly.\n",
      "  warnings.warn(\n"
     ]
    },
    {
     "name": "stderr",
     "output_type": "stream",
     "text": [
      "C:\\Users\\user\\AppData\\Local\\Packages\\PythonSoftwareFoundation.Python.3.11_qbz5n2kfra8p0\\LocalCache\\local-packages\\Python311\\site-packages\\sklearn\\preprocessing\\_discretization.py:248: FutureWarning: In version 1.5 onwards, subsample=200_000 will be used by default. Set subsample explicitly to silence this warning in the mean time. Set subsample=None to disable subsampling explicitly.\n",
      "  warnings.warn(\n",
      "C:\\Users\\user\\AppData\\Local\\Packages\\PythonSoftwareFoundation.Python.3.11_qbz5n2kfra8p0\\LocalCache\\local-packages\\Python311\\site-packages\\sklearn\\preprocessing\\_discretization.py:248: FutureWarning: In version 1.5 onwards, subsample=200_000 will be used by default. Set subsample explicitly to silence this warning in the mean time. Set subsample=None to disable subsampling explicitly.\n",
      "  warnings.warn(\n",
      "C:\\Users\\user\\AppData\\Local\\Packages\\PythonSoftwareFoundation.Python.3.11_qbz5n2kfra8p0\\LocalCache\\local-packages\\Python311\\site-packages\\sklearn\\preprocessing\\_discretization.py:248: FutureWarning: In version 1.5 onwards, subsample=200_000 will be used by default. Set subsample explicitly to silence this warning in the mean time. Set subsample=None to disable subsampling explicitly.\n",
      "  warnings.warn(\n",
      "C:\\Users\\user\\AppData\\Local\\Packages\\PythonSoftwareFoundation.Python.3.11_qbz5n2kfra8p0\\LocalCache\\local-packages\\Python311\\site-packages\\sklearn\\preprocessing\\_discretization.py:248: FutureWarning: In version 1.5 onwards, subsample=200_000 will be used by default. Set subsample explicitly to silence this warning in the mean time. Set subsample=None to disable subsampling explicitly.\n",
      "  warnings.warn(\n",
      "C:\\Users\\user\\AppData\\Local\\Packages\\PythonSoftwareFoundation.Python.3.11_qbz5n2kfra8p0\\LocalCache\\local-packages\\Python311\\site-packages\\sklearn\\preprocessing\\_discretization.py:248: FutureWarning: In version 1.5 onwards, subsample=200_000 will be used by default. Set subsample explicitly to silence this warning in the mean time. Set subsample=None to disable subsampling explicitly.\n",
      "  warnings.warn(\n",
      "C:\\Users\\user\\AppData\\Local\\Packages\\PythonSoftwareFoundation.Python.3.11_qbz5n2kfra8p0\\LocalCache\\local-packages\\Python311\\site-packages\\sklearn\\preprocessing\\_discretization.py:248: FutureWarning: In version 1.5 onwards, subsample=200_000 will be used by default. Set subsample explicitly to silence this warning in the mean time. Set subsample=None to disable subsampling explicitly.\n",
      "  warnings.warn(\n",
      "C:\\Users\\user\\AppData\\Local\\Packages\\PythonSoftwareFoundation.Python.3.11_qbz5n2kfra8p0\\LocalCache\\local-packages\\Python311\\site-packages\\sklearn\\preprocessing\\_discretization.py:248: FutureWarning: In version 1.5 onwards, subsample=200_000 will be used by default. Set subsample explicitly to silence this warning in the mean time. Set subsample=None to disable subsampling explicitly.\n",
      "  warnings.warn(\n"
     ]
    },
    {
     "data": {
      "image/png": "[encoded data removed]",
      "text/plain": [
       "<Figure size 640x480 with 1 Axes>"
      ]
     },
     "metadata": {},
     "output_type": "display_data"
    }
   ],
   "source": [
    "train_acc = []\n",
    "test_acc = []\n",
    "node_count = []\n",
    "\n",
    "binsList = list(range(2,10))\n",
    "for n in binsList:\n",
    "    kbd = KBinsDiscretizer(n_bins=n, encode='ordinal', strategy='kmeans')\n",
    "    df_new7 = df_new6 # make a copy\n",
    "\n",
    "# The below is for when we want to mask the zeros\n",
    "#    df_new7['Percent_Bleaching_Discretized'] = df_new7['Percent_Bleaching'] # create a new column (just so we can compare) we'll drop it later\n",
    "#    mask = (df_new7['Percent_Bleaching_Discretized'] > 0) # Make a mask for the non-zero targets so we can discretize them\n",
    "#    discretized_values = kbd.fit_transform(df_new7.loc[mask, ['Percent_Bleaching_Discretized']]) # discretize the non-zeros\n",
    "#    df_new7.loc[mask, 'Percent_Bleaching_Discretized'] = discretized_values + 1 # to avoid overlapping zeros from original data and zero from dicsretization add 1\n",
    "\n",
    "    df_new7['Percent_Bleaching_Discretized'] = df_new7['Percent_Bleaching']\n",
    "    df_new7['Percent_Bleaching_Discretized'] = kbd.fit_transform(df_new7[['Percent_Bleaching_Discretized']])\n",
    "    df_new7[['Percent_Bleaching','Percent_Bleaching_Discretized']]\n",
    "   \n",
    "    y = df_new7['Percent_Bleaching_Discretized'].to_numpy()\n",
    "    X = df_new7.drop(columns=['Sample_ID', 'Percent_Bleaching','Percent_Bleaching_Discretized']).to_numpy()\n",
    "    \n",
    "    X_train, X_test, y_train, y_test = train_test_split(X, y, test_size=0.20, random_state=42)\n",
    "\n",
    "    coralDT = DecisionTreeClassifier() #create the tree\n",
    "    coralDT.fit(X_train, y_train) #train the tree\n",
    "    train_acc.append(coralDT.score(X_train, y_train)) #retrieve the training accuracy from transforming\n",
    "    test_acc.append(coralDT.score(X_test, y_test))  #retrieve the testing accuracy from transforming\n",
    "    node_count.append(coralDT.tree_.node_count) #retrieve the nodes used\n",
    "\n",
    "plt.plot(node_count, train_acc, label='Training Accuracy')\n",
    "plt.plot(node_count, test_acc, label='Testing Accuracy')\n",
    "plt.xlabel('Number of Nodes')\n",
    "plt.ylabel('Average Accuracy')\n",
    "plt.title('Nodes vs. Accuracy')\n",
    "plt.legend()\n",
    "plt.show()\n",
    "\n",
    "\n",
    "#    df_new7[['Percent_Bleaching','Percent_Bleaching_Discretized']]"
   ]
  },
  {
   "cell_type": "code",
   "execution_count": 219,
   "metadata": {},
   "outputs": [
    {
     "name": "stderr",
     "output_type": "stream",
     "text": [
      "C:\\Users\\user\\AppData\\Local\\Packages\\PythonSoftwareFoundation.Python.3.11_qbz5n2kfra8p0\\LocalCache\\local-packages\\Python311\\site-packages\\sklearn\\preprocessing\\_discretization.py:248: FutureWarning: In version 1.5 onwards, subsample=200_000 will be used by default. Set subsample explicitly to silence this warning in the mean time. Set subsample=None to disable subsampling explicitly.\n",
      "  warnings.warn(\n",
      "C:\\Users\\user\\AppData\\Local\\Packages\\PythonSoftwareFoundation.Python.3.11_qbz5n2kfra8p0\\LocalCache\\local-packages\\Python311\\site-packages\\sklearn\\preprocessing\\_discretization.py:248: FutureWarning: In version 1.5 onwards, subsample=200_000 will be used by default. Set subsample explicitly to silence this warning in the mean time. Set subsample=None to disable subsampling explicitly.\n",
      "  warnings.warn(\n",
      "C:\\Users\\user\\AppData\\Local\\Packages\\PythonSoftwareFoundation.Python.3.11_qbz5n2kfra8p0\\LocalCache\\local-packages\\Python311\\site-packages\\sklearn\\preprocessing\\_discretization.py:248: FutureWarning: In version 1.5 onwards, subsample=200_000 will be used by default. Set subsample explicitly to silence this warning in the mean time. Set subsample=None to disable subsampling explicitly.\n",
      "  warnings.warn(\n",
      "C:\\Users\\user\\AppData\\Local\\Packages\\PythonSoftwareFoundation.Python.3.11_qbz5n2kfra8p0\\LocalCache\\local-packages\\Python311\\site-packages\\sklearn\\preprocessing\\_discretization.py:248: FutureWarning: In version 1.5 onwards, subsample=200_000 will be used by default. Set subsample explicitly to silence this warning in the mean time. Set subsample=None to disable subsampling explicitly.\n",
      "  warnings.warn(\n",
      "C:\\Users\\user\\AppData\\Local\\Packages\\PythonSoftwareFoundation.Python.3.11_qbz5n2kfra8p0\\LocalCache\\local-packages\\Python311\\site-packages\\sklearn\\preprocessing\\_discretization.py:248: FutureWarning: In version 1.5 onwards, subsample=200_000 will be used by default. Set subsample explicitly to silence this warning in the mean time. Set subsample=None to disable subsampling explicitly.\n",
      "  warnings.warn(\n",
      "C:\\Users\\user\\AppData\\Local\\Packages\\PythonSoftwareFoundation.Python.3.11_qbz5n2kfra8p0\\LocalCache\\local-packages\\Python311\\site-packages\\sklearn\\preprocessing\\_discretization.py:248: FutureWarning: In version 1.5 onwards, subsample=200_000 will be used by default. Set subsample explicitly to silence this warning in the mean time. Set subsample=None to disable subsampling explicitly.\n",
      "  warnings.warn(\n",
      "C:\\Users\\user\\AppData\\Local\\Packages\\PythonSoftwareFoundation.Python.3.11_qbz5n2kfra8p0\\LocalCache\\local-packages\\Python311\\site-packages\\sklearn\\preprocessing\\_discretization.py:248: FutureWarning: In version 1.5 onwards, subsample=200_000 will be used by default. Set subsample explicitly to silence this warning in the mean time. Set subsample=None to disable subsampling explicitly.\n",
      "  warnings.warn(\n",
      "C:\\Users\\user\\AppData\\Local\\Packages\\PythonSoftwareFoundation.Python.3.11_qbz5n2kfra8p0\\LocalCache\\local-packages\\Python311\\site-packages\\sklearn\\preprocessing\\_discretization.py:248: FutureWarning: In version 1.5 onwards, subsample=200_000 will be used by default. Set subsample explicitly to silence this warning in the mean time. Set subsample=None to disable subsampling explicitly.\n",
      "  warnings.warn(\n"
     ]
    },
    {
     "data": {
      "image/png": "[encoded data removed]",
      "text/plain": [
       "<Figure size 640x480 with 1 Axes>"
      ]
     },
     "metadata": {},
     "output_type": "display_data"
    }
   ],
   "source": [
    "train_acc = []\n",
    "test_acc = []\n",
    "\n",
    "binsList = list(range(2,10))\n",
    "for n in binsList:\n",
    "    kbd = KBinsDiscretizer(n_bins=n, encode='ordinal', strategy='kmeans')\n",
    "    df_new7 = df_new6 # make a copy\n",
    "\n",
    "# The below is for when we want to mask the zeros\n",
    "#    df_new7['Percent_Bleaching_Discretized'] = df_new7['Percent_Bleaching'] # create a new column (just so we can compare) we'll drop it later\n",
    "#    mask = (df_new7['Percent_Bleaching_Discretized'] > 0) # Make a mask for the non-zero targets so we can discretize them\n",
    "#    discretized_values = kbd.fit_transform(df_new7.loc[mask, ['Percent_Bleaching_Discretized']]) # discretize the non-zeros\n",
    "#    df_new7.loc[mask, 'Percent_Bleaching_Discretized'] = discretized_values + 1 # to avoid overlapping zeros from original data and zero from dicsretization add 1\n",
    "\n",
    "    df_new7['Percent_Bleaching_Discretized'] = df_new7['Percent_Bleaching']\n",
    "    df_new7['Percent_Bleaching_Discretized'] = kbd.fit_transform(df_new7[['Percent_Bleaching_Discretized']])\n",
    "    df_new7[['Percent_Bleaching','Percent_Bleaching_Discretized']]\n",
    "   \n",
    "    y = df_new7['Percent_Bleaching_Discretized'].to_numpy()\n",
    "    X = df_new7.drop(columns=['Sample_ID', 'Percent_Bleaching','Percent_Bleaching_Discretized']).to_numpy()\n",
    "    \n",
    "    X_train, X_test, y_train, y_test = train_test_split(X, y, test_size=0.20, random_state=42)\n",
    "\n",
    "    coralDT = DecisionTreeClassifier() #create the tree\n",
    "    coralDT.fit(X_train, y_train) #train the tree\n",
    "    train_acc.append(coralDT.score(X_train, y_train)) #retrieve the training accuracy from transforming\n",
    "    test_acc.append(coralDT.score(X_test, y_test))  #retrieve the testing accuracy from transforming\n",
    "\n",
    "plt.plot(binsList, train_acc, label='Training Accuracy')\n",
    "plt.plot(binsList, test_acc, label='Testing Accuracy')\n",
    "plt.xlabel('Number of Bins')\n",
    "plt.ylabel('Average Accuracy')\n",
    "plt.title('Bins vs. Accuracy')\n",
    "plt.legend()\n",
    "plt.show()\n"
   ]
  },
  {
   "cell_type": "markdown",
   "metadata": {},
   "source": [
    "# Discretization"
   ]
  },
  {
   "cell_type": "code",
   "execution_count": 220,
   "metadata": {},
   "outputs": [],
   "source": [
    "#kbd = KBinsDiscretizer(n_bins=2, encode='ordinal', strategy='kmeans')   # K-means Discretization\n",
    "                                                                        # Test to see which is the optimal number of bins\n",
    "#df_new7 = df_new6 # make a copy\n",
    "#df_new7['Percent_Bleaching_Discretized'] = df_new7['Percent_Bleaching'] # create a new column (just so we can compare) we'll drop it later\n",
    "#mask = (df_new7['Percent_Bleaching_Discretized'] > 0) # Make a mask for the non-zero targets so we can discretize them\n",
    "#discretized_values = kbd.fit_transform(df_new7.loc[mask, ['Percent_Bleaching_Discretized']]) # discretize the non-zeros\n",
    "#df_new7.loc[mask, 'Percent_Bleaching_Discretized'] = discretized_values + 1 # to avoid overlapping zeros from original data and zero from dicsretization add 1\n",
    "#df_new7[['Percent_Bleaching','Percent_Bleaching_Discretized']]"
   ]
  },
  {
   "cell_type": "code",
   "execution_count": 221,
   "metadata": {},
   "outputs": [],
   "source": [
    "#df_new7['Percent_Bleaching_Discretized'].value_counts()"
   ]
  },
  {
   "cell_type": "code",
   "execution_count": 222,
   "metadata": {},
   "outputs": [],
   "source": [
    "#kbd.bin_edges_"
   ]
  },
  {
   "cell_type": "markdown",
   "metadata": {},
   "source": [
    "# Discretize without Mask"
   ]
  },
  {
   "cell_type": "code",
   "execution_count": 223,
   "metadata": {},
   "outputs": [
    {
     "name": "stderr",
     "output_type": "stream",
     "text": [
      "C:\\Users\\user\\AppData\\Local\\Packages\\PythonSoftwareFoundation.Python.3.11_qbz5n2kfra8p0\\LocalCache\\local-packages\\Python311\\site-packages\\sklearn\\preprocessing\\_discretization.py:248: FutureWarning: In version 1.5 onwards, subsample=200_000 will be used by default. Set subsample explicitly to silence this warning in the mean time. Set subsample=None to disable subsampling explicitly.\n",
      "  warnings.warn(\n"
     ]
    },
    {
     "data": {
      "text/html": [
       "<div>\n",
       "<style scoped>\n",
       "    .dataframe tbody tr th:only-of-type {\n",
       "        vertical-align: middle;\n",
       "    }\n",
       "\n",
       "    .dataframe tbody tr th {\n",
       "        vertical-align: top;\n",
       "    }\n",
       "\n",
       "    .dataframe thead th {\n",
       "        text-align: right;\n",
       "    }\n",
       "</style>\n",
       "<table border=\"1\" class=\"dataframe\">\n",
       "  <thead>\n",
       "    <tr style=\"text-align: right;\">\n",
       "      <th></th>\n",
       "      <th>Percent_Bleaching</th>\n",
       "      <th>Percent_Bleaching_Discretized</th>\n",
       "    </tr>\n",
       "  </thead>\n",
       "  <tbody>\n",
       "    <tr>\n",
       "      <th>0</th>\n",
       "      <td>50</td>\n",
       "      <td>1.0</td>\n",
       "    </tr>\n",
       "    <tr>\n",
       "      <th>1</th>\n",
       "      <td>50</td>\n",
       "      <td>1.0</td>\n",
       "    </tr>\n",
       "    <tr>\n",
       "      <th>2</th>\n",
       "      <td>50</td>\n",
       "      <td>1.0</td>\n",
       "    </tr>\n",
       "    <tr>\n",
       "      <th>3</th>\n",
       "      <td>50</td>\n",
       "      <td>1.0</td>\n",
       "    </tr>\n",
       "    <tr>\n",
       "      <th>4</th>\n",
       "      <td>50</td>\n",
       "      <td>1.0</td>\n",
       "    </tr>\n",
       "    <tr>\n",
       "      <th>...</th>\n",
       "      <td>...</td>\n",
       "      <td>...</td>\n",
       "    </tr>\n",
       "    <tr>\n",
       "      <th>35040</th>\n",
       "      <td>100</td>\n",
       "      <td>1.0</td>\n",
       "    </tr>\n",
       "    <tr>\n",
       "      <th>35041</th>\n",
       "      <td>100</td>\n",
       "      <td>1.0</td>\n",
       "    </tr>\n",
       "    <tr>\n",
       "      <th>35042</th>\n",
       "      <td>100</td>\n",
       "      <td>1.0</td>\n",
       "    </tr>\n",
       "    <tr>\n",
       "      <th>35043</th>\n",
       "      <td>100</td>\n",
       "      <td>1.0</td>\n",
       "    </tr>\n",
       "    <tr>\n",
       "      <th>35044</th>\n",
       "      <td>100</td>\n",
       "      <td>1.0</td>\n",
       "    </tr>\n",
       "  </tbody>\n",
       "</table>\n",
       "<p>32675 rows × 2 columns</p>\n",
       "</div>"
      ],
      "text/plain": [
       "       Percent_Bleaching  Percent_Bleaching_Discretized\n",
       "0                     50                            1.0\n",
       "1                     50                            1.0\n",
       "2                     50                            1.0\n",
       "3                     50                            1.0\n",
       "4                     50                            1.0\n",
       "...                  ...                            ...\n",
       "35040                100                            1.0\n",
       "35041                100                            1.0\n",
       "35042                100                            1.0\n",
       "35043                100                            1.0\n",
       "35044                100                            1.0\n",
       "\n",
       "[32675 rows x 2 columns]"
      ]
     },
     "execution_count": 223,
     "metadata": {},
     "output_type": "execute_result"
    }
   ],
   "source": [
    "kbd = KBinsDiscretizer(n_bins=2, encode='ordinal', strategy='kmeans')   # K-means Discretization\n",
    "                                                                        # Test to see which is the optimal number of bins\n",
    "df_new7 = df_new6 # make a copy\n",
    "\n",
    "df_new7['Percent_Bleaching_Discretized'] = df_new7['Percent_Bleaching'] # create a new column (just so we can compare) we'll drop it later\n",
    "\n",
    "df_new7['Percent_Bleaching_Discretized'] = kbd.fit_transform(df_new7[['Percent_Bleaching_Discretized']]) # discretize the non-zeros\n",
    "df_new7[['Percent_Bleaching','Percent_Bleaching_Discretized']]"
   ]
  },
  {
   "cell_type": "code",
   "execution_count": 224,
   "metadata": {},
   "outputs": [
    {
     "data": {
      "text/plain": [
       "Percent_Bleaching_Discretized\n",
       "0.0    29865\n",
       "1.0     2810\n",
       "Name: count, dtype: int64"
      ]
     },
     "execution_count": 224,
     "metadata": {},
     "output_type": "execute_result"
    }
   ],
   "source": [
    "df_new7['Percent_Bleaching_Discretized'].value_counts()"
   ]
  },
  {
   "cell_type": "code",
   "execution_count": 225,
   "metadata": {},
   "outputs": [
    {
     "data": {
      "text/plain": [
       "array([array([  0.       ,  31.5591283, 100.       ])], dtype=object)"
      ]
     },
     "execution_count": 225,
     "metadata": {},
     "output_type": "execute_result"
    }
   ],
   "source": [
    "kbd.bin_edges_"
   ]
  },
  {
   "cell_type": "markdown",
   "metadata": {},
   "source": [
    "# Undersampling"
   ]
  },
  {
   "cell_type": "code",
   "execution_count": 226,
   "metadata": {},
   "outputs": [
    {
     "name": "stdout",
     "output_type": "stream",
     "text": [
      "[(0.0, 2810), (1.0, 2810)]\n"
     ]
    }
   ],
   "source": [
    "rus = RandomUnderSampler(random_state=0, sampling_strategy=\"majority\")\n",
    "\n",
    "df_new10 = df_new7\n",
    "\n",
    "y = df_new10['Percent_Bleaching_Discretized'].to_numpy()\n",
    "X = df_new10.drop(columns=['Sample_ID', 'Percent_Bleaching','Percent_Bleaching_Discretized']).to_numpy()\n",
    "\n",
    "X_resampled, y_resampled = rus.fit_resample(X, y)\n",
    "print(sorted(Counter(y_resampled).items()))"
   ]
  },
  {
   "cell_type": "markdown",
   "metadata": {},
   "source": [
    "Undersampling Majority to be twice as large as minority"
   ]
  },
  {
   "cell_type": "code",
   "execution_count": 227,
   "metadata": {},
   "outputs": [],
   "source": [
    "# rus = RandomUnderSampler(random_state=0, sampling_strategy=0.3)\n",
    "\n",
    "# df_new10 = df_new7\n",
    "\n",
    "# y = df_new10['Percent_Bleaching_Discretized'].to_numpy()\n",
    "# X = df_new10.drop(columns=['Sample_ID', 'Percent_Bleaching','Percent_Bleaching_Discretized']).to_numpy()\n",
    "\n",
    "# X_undersampled, y_undersampled = rus.fit_resample(X, y)\n",
    "# print(sorted(Counter(y_resampled).items()))"
   ]
  },
  {
   "cell_type": "markdown",
   "metadata": {},
   "source": [
    "Oversampling Minority to be same as majority"
   ]
  },
  {
   "cell_type": "code",
   "execution_count": 228,
   "metadata": {},
   "outputs": [],
   "source": [
    "# smote_enn = SMOTEENN(random_state=0, sampling_strategy=\"all\")\n",
    "# X_resampled, y_resampled = smote_enn.fit_resample(X_undersampled, y_undersampled)\n",
    "# print(sorted(Counter(y_resampled).items()))"
   ]
  },
  {
   "cell_type": "code",
   "execution_count": 229,
   "metadata": {},
   "outputs": [
    {
     "data": {
      "text/plain": [
       "(5620, 152)"
      ]
     },
     "execution_count": 229,
     "metadata": {},
     "output_type": "execute_result"
    }
   ],
   "source": [
    "X_resampled.shape"
   ]
  },
  {
   "cell_type": "code",
   "execution_count": 230,
   "metadata": {},
   "outputs": [
    {
     "data": {
      "text/plain": [
       "(5620,)"
      ]
     },
     "execution_count": 230,
     "metadata": {},
     "output_type": "execute_result"
    }
   ],
   "source": [
    "y_resampled.shape"
   ]
  },
  {
   "cell_type": "markdown",
   "metadata": {},
   "source": [
    "# Combination of Under and Over Sampling"
   ]
  },
  {
   "cell_type": "code",
   "execution_count": 166,
   "metadata": {},
   "outputs": [],
   "source": [
    "#smote_enn = SMOTEENN(random_state=0, sampling_strategy=\"all\")\n",
    "#df_new10 = df_new7\n",
    "#y = df_new10['Percent_Bleaching_Discretized'].to_numpy()\n",
    "#X = df_new10.drop(columns=['Sample_ID', 'Percent_Bleaching','Percent_Bleaching_Discretized']).to_numpy()\n",
    "#X_resampled, y_resampled = smote_enn.fit_resample(X, y)\n",
    "#print(sorted(Counter(y_resampled).items()))"
   ]
  },
  {
   "cell_type": "code",
   "execution_count": 167,
   "metadata": {},
   "outputs": [],
   "source": [
    "#smote_tomek = SMOTETomek(random_state=0)\n",
    "#df_new10 = df_new7\n",
    "#y = df_new10['Percent_Bleaching_Discretized'].to_numpy()\n",
    "#X = df_new10.drop(columns=['Sample_ID', 'Percent_Bleaching','Percent_Bleaching_Discretized']).to_numpy()\n",
    "#X_resampled, y_resampled = smote_tomek.fit_resample(X, y)\n",
    "#print(sorted(Counter(y_resampled).items()))"
   ]
  },
  {
   "cell_type": "markdown",
   "metadata": {},
   "source": [
    "### Feature Selection"
   ]
  },
  {
   "cell_type": "code",
   "execution_count": 168,
   "metadata": {},
   "outputs": [
    {
     "name": "stderr",
     "output_type": "stream",
     "text": [
      "C:\\Users\\user\\AppData\\Local\\Packages\\PythonSoftwareFoundation.Python.3.11_qbz5n2kfra8p0\\LocalCache\\local-packages\\Python311\\site-packages\\sklearn\\feature_selection\\_univariate_selection.py:112: UserWarning: Features [ 46  50  58  63  75  84  87 107 127 139 143] are constant.\n",
      "  warnings.warn(\"Features %s are constant.\" % constant_features_idx, UserWarning)\n",
      "C:\\Users\\user\\AppData\\Local\\Packages\\PythonSoftwareFoundation.Python.3.11_qbz5n2kfra8p0\\LocalCache\\local-packages\\Python311\\site-packages\\sklearn\\feature_selection\\_univariate_selection.py:113: RuntimeWarning: invalid value encountered in divide\n",
      "  f = msb / msw\n"
     ]
    }
   ],
   "source": [
    "X_new_FS = SelectPercentile(f_classif, percentile = 50).fit_transform(X_resampled, y_resampled)"
   ]
  },
  {
   "cell_type": "code",
   "execution_count": 169,
   "metadata": {},
   "outputs": [],
   "source": [
    "# df_new8 = df_new7\n",
    "# y = df_new8['Percent_Bleaching_Discretized'].to_numpy()\n",
    "# X = df_new8.drop(columns=['Sample_ID', 'Percent_Bleaching','Percent_Bleaching_Discretized']).to_numpy()\n",
    "# X_new = SelectPercentile(f_classif, percentile = 50).fit_transform(X, y)"
   ]
  },
  {
   "cell_type": "code",
   "execution_count": 170,
   "metadata": {},
   "outputs": [
    {
     "data": {
      "text/plain": [
       "(5620, 76)"
      ]
     },
     "execution_count": 170,
     "metadata": {},
     "output_type": "execute_result"
    }
   ],
   "source": [
    "X_new_FS.shape"
   ]
  },
  {
   "cell_type": "markdown",
   "metadata": {},
   "source": [
    "# Scaling"
   ]
  },
  {
   "cell_type": "code",
   "execution_count": 171,
   "metadata": {},
   "outputs": [],
   "source": [
    "#scaler = preprocessing.MinMaxScaler ()\n",
    "#X_new_rescaled = scaler.fit_transform (X_new) \n",
    "#print(X_new_rescaled)"
   ]
  },
  {
   "cell_type": "code",
   "execution_count": 172,
   "metadata": {},
   "outputs": [
    {
     "name": "stdout",
     "output_type": "stream",
     "text": [
      "[[ 1.21029671  0.37613537 -0.61724505 ... -1.10952425 -0.05343317\n",
      "   3.31791305]\n",
      " [ 1.00081081 -0.76585311  0.32507541 ...  0.90128719 -0.05343317\n",
      "  -0.30139428]\n",
      " [ 1.21029671  0.37613537 -0.61724505 ... -1.10952425 -0.05343317\n",
      "   3.31791305]\n",
      " ...\n",
      " [-1.65267725  0.50636213 -2.03072574 ... -1.10952425 -0.05343317\n",
      "   3.31791305]\n",
      " [ 0.93098217 -0.77587056  0.67844558 ...  0.90128719 -0.05343317\n",
      "  -0.30139428]\n",
      " [ 0.93098217 -0.76585311  1.14960581 ...  0.90128719 -0.05343317\n",
      "  -0.30139428]]\n"
     ]
    }
   ],
   "source": [
    "# This one is slightly better than MinMaxScaler\n",
    "from sklearn.preprocessing import StandardScaler\n",
    "\n",
    "scaler = StandardScaler()\n",
    "X_new_rescaled = scaler.fit_transform (X_new_FS) \n",
    "print(X_new_rescaled)"
   ]
  },
  {
   "cell_type": "code",
   "execution_count": 173,
   "metadata": {},
   "outputs": [
    {
     "name": "stdout",
     "output_type": "stream",
     "text": [
      "0.989991103202847\n",
      "0.854982206405694\n"
     ]
    }
   ],
   "source": [
    "X_train, X_test, y_train, y_test = train_test_split(X_new_rescaled, y_resampled, test_size=0.20, random_state=42)\n",
    "\n",
    "coral_DT = DecisionTreeClassifier()\n",
    "coral_DT.fit(X_train, y_train)\n",
    "print(coral_DT.score(X_train, y_train))\n",
    "print(coral_DT.score(X_test, y_test))"
   ]
  },
  {
   "cell_type": "markdown",
   "metadata": {},
   "source": [
    "## PCA (Principle Component Analysis)"
   ]
  },
  {
   "cell_type": "code",
   "execution_count": 174,
   "metadata": {},
   "outputs": [],
   "source": [
    "# from sklearn.decomposition import PCA \n",
    "\n",
    "# for n in range(2, X_new_rescaled.shape[1]):\n",
    "#     pca = PCA(n_components=n) \n",
    "#     pca.fit(X_new_rescaled) \n",
    "#     #print(pca.explained_variance_ratio_) \n",
    "#     #print(pca.singular_values_)\n",
    "\n",
    "# plt.plot(node_count, train_acc, label='Training Accuracy')\n",
    "# plt.plot(node_count, test_acc, label='Testing Accuracy')\n",
    "# plt.xlabel('Number of Nodes')\n",
    "# plt.ylabel('Average Accuracy')\n",
    "# plt.title('Nodes vs. Accuracy')\n",
    "# plt.legend()\n",
    "# plt.show()\n",
    "# #print(pca.explained_variance_ratio_.sum())"
   ]
  },
  {
   "cell_type": "code",
   "execution_count": 175,
   "metadata": {},
   "outputs": [],
   "source": [
    "# pca = PCA()\n",
    "# pca.fit(X_new_rescaled)\n",
    "\n",
    "# # Check the explained variance ratio\n",
    "# explained_variance_ratio = pca.explained_variance_ratio_\n",
    "# print(\"Explained Variance Ratio:\", explained_variance_ratio)\n",
    "\n",
    "# # Determine the number of components to retain\n",
    "# # For example, retain 95% of the variance\n",
    "# cumulative_explained_variance = explained_variance_ratio.cumsum()\n",
    "# num_components = (cumulative_explained_variance < 0.95).sum() + 1\n",
    "\n",
    "# # Fit the PCA model with the chosen number of components\n",
    "# pca = PCA(n_components=num_components)\n",
    "# X_pca = pca.fit_transform(X_new_rescaled)\n",
    "\n",
    "# # X_pca now contains the transformed features\n"
   ]
  },
  {
   "cell_type": "markdown",
   "id": "ce850751",
   "metadata": {},
   "source": [
    "# End of Preprocessing "
   ]
  },
  {
   "cell_type": "markdown",
   "metadata": {},
   "source": [
    "### c. Naive Bayes"
   ]
  },
  {
   "cell_type": "code",
   "execution_count": 231,
   "metadata": {},
   "outputs": [],
   "source": [
    "from sklearn.naive_bayes import GaussianNB"
   ]
  },
  {
   "cell_type": "code",
   "execution_count": 193,
   "metadata": {},
   "outputs": [],
   "source": [
    "X_train_NB, X_test_NB, y_train_NB, y_test_NB = train_test_split(X_new_rescaled, y_resampled, test_size=0.20, random_state=42)"
   ]
  },
  {
   "cell_type": "markdown",
   "metadata": {},
   "source": [
    "### a. Naive Bayes with No Parameters"
   ]
  },
  {
   "cell_type": "code",
   "execution_count": 178,
   "metadata": {},
   "outputs": [
    {
     "name": "stdout",
     "output_type": "stream",
     "text": [
      "0.6156583629893239\n",
      "0.5898576512455516\n"
     ]
    }
   ],
   "source": [
    "coral_NB_default = GaussianNB()\n",
    "coral_NB_default.fit(X_train_NB, y_train_NB)\n",
    "print(coral_NB_default.score(X_train_NB, y_train_NB))\n",
    "print(coral_NB_default.score(X_test_NB, y_test_NB))"
   ]
  },
  {
   "cell_type": "markdown",
   "metadata": {},
   "source": [
    "### b. Naive Bayes with var_smoothing Parameter Tuning (just testing out)"
   ]
  },
  {
   "cell_type": "code",
   "execution_count": 179,
   "metadata": {},
   "outputs": [
    {
     "name": "stdout",
     "output_type": "stream",
     "text": [
      "0.7101868327402135\n",
      "0.6850533807829181\n"
     ]
    }
   ],
   "source": [
    "coral_NB_tuned = GaussianNB(var_smoothing = 1e-2)\n",
    "coral_NB_tuned.fit(X_train_NB, y_train_NB)\n",
    "print(coral_NB_tuned.score(X_train_NB, y_train_NB))\n",
    "print(coral_NB_tuned.score(X_test_NB, y_test_NB))"
   ]
  },
  {
   "cell_type": "markdown",
   "metadata": {},
   "source": [
    "### c. GridSearchCV"
   ]
  },
  {
   "cell_type": "code",
   "execution_count": 180,
   "metadata": {},
   "outputs": [
    {
     "data": {
      "text/html": [
       "<style>#sk-container-id-1 {color: black;}#sk-container-id-1 pre{padding: 0;}#sk-container-id-1 div.sk-toggleable {background-color: white;}#sk-container-id-1 label.sk-toggleable__label {cursor: pointer;display: block;width: 100%;margin-bottom: 0;padding: 0.3em;box-sizing: border-box;text-align: center;}#sk-container-id-1 label.sk-toggleable__label-arrow:before {content: \"▸\";float: left;margin-right: 0.25em;color: #696969;}#sk-container-id-1 label.sk-toggleable__label-arrow:hover:before {color: black;}#sk-container-id-1 div.sk-estimator:hover label.sk-toggleable__label-arrow:before {color: black;}#sk-container-id-1 div.sk-toggleable__content {max-height: 0;max-width: 0;overflow: hidden;text-align: left;background-color: #f0f8ff;}#sk-container-id-1 div.sk-toggleable__content pre {margin: 0.2em;color: black;border-radius: 0.25em;background-color: #f0f8ff;}#sk-container-id-1 input.sk-toggleable__control:checked~div.sk-toggleable__content {max-height: 200px;max-width: 100%;overflow: auto;}#sk-container-id-1 input.sk-toggleable__control:checked~label.sk-toggleable__label-arrow:before {content: \"▾\";}#sk-container-id-1 div.sk-estimator input.sk-toggleable__control:checked~label.sk-toggleable__label {background-color: #d4ebff;}#sk-container-id-1 div.sk-label input.sk-toggleable__control:checked~label.sk-toggleable__label {background-color: #d4ebff;}#sk-container-id-1 input.sk-hidden--visually {border: 0;clip: rect(1px 1px 1px 1px);clip: rect(1px, 1px, 1px, 1px);height: 1px;margin: -1px;overflow: hidden;padding: 0;position: absolute;width: 1px;}#sk-container-id-1 div.sk-estimator {font-family: monospace;background-color: #f0f8ff;border: 1px dotted black;border-radius: 0.25em;box-sizing: border-box;margin-bottom: 0.5em;}#sk-container-id-1 div.sk-estimator:hover {background-color: #d4ebff;}#sk-container-id-1 div.sk-parallel-item::after {content: \"\";width: 100%;border-bottom: 1px solid gray;flex-grow: 1;}#sk-container-id-1 div.sk-label:hover label.sk-toggleable__label {background-color: #d4ebff;}#sk-container-id-1 div.sk-serial::before {content: \"\";position: absolute;border-left: 1px solid gray;box-sizing: border-box;top: 0;bottom: 0;left: 50%;z-index: 0;}#sk-container-id-1 div.sk-serial {display: flex;flex-direction: column;align-items: center;background-color: white;padding-right: 0.2em;padding-left: 0.2em;position: relative;}#sk-container-id-1 div.sk-item {position: relative;z-index: 1;}#sk-container-id-1 div.sk-parallel {display: flex;align-items: stretch;justify-content: center;background-color: white;position: relative;}#sk-container-id-1 div.sk-item::before, #sk-container-id-1 div.sk-parallel-item::before {content: \"\";position: absolute;border-left: 1px solid gray;box-sizing: border-box;top: 0;bottom: 0;left: 50%;z-index: -1;}#sk-container-id-1 div.sk-parallel-item {display: flex;flex-direction: column;z-index: 1;position: relative;background-color: white;}#sk-container-id-1 div.sk-parallel-item:first-child::after {align-self: flex-end;width: 50%;}#sk-container-id-1 div.sk-parallel-item:last-child::after {align-self: flex-start;width: 50%;}#sk-container-id-1 div.sk-parallel-item:only-child::after {width: 0;}#sk-container-id-1 div.sk-dashed-wrapped {border: 1px dashed gray;margin: 0 0.4em 0.5em 0.4em;box-sizing: border-box;padding-bottom: 0.4em;background-color: white;}#sk-container-id-1 div.sk-label label {font-family: monospace;font-weight: bold;display: inline-block;line-height: 1.2em;}#sk-container-id-1 div.sk-label-container {text-align: center;}#sk-container-id-1 div.sk-container {/* jupyter's `normalize.less` sets `[hidden] { display: none; }` but bootstrap.min.css set `[hidden] { display: none !important; }` so we also need the `!important` here to be able to override the default hidden behavior on the sphinx rendered scikit-learn.org. See: https://github.com/scikit-learn/scikit-learn/issues/21755 */display: inline-block !important;position: relative;}#sk-container-id-1 div.sk-text-repr-fallback {display: none;}</style><div id=\"sk-container-id-1\" class=\"sk-top-container\"><div class=\"sk-text-repr-fallback\"><pre>GridSearchCV(cv=5, estimator=GaussianNB(),\n",
       "             param_grid={&#x27;var_smoothing&#x27;: [1e-50, 1.0481131341546917e-49,\n",
       "                                           1.0985411419875528e-48,\n",
       "                                           1.1513953993264482e-47,\n",
       "                                           1.2067926406393363e-46,\n",
       "                                           1.2648552168552906e-45,\n",
       "                                           1.3257113655901109e-44,\n",
       "                                           1.3894954943731474e-43,\n",
       "                                           1.4563484775012384e-42,\n",
       "                                           1.5264179671752365e-41,\n",
       "                                           1.5998587196060442e-40,\n",
       "                                           1.676832936811003e-39,\n",
       "                                           1.7575106248547965e-38...\n",
       "                                           1.9306977288832458e-36,\n",
       "                                           2.0235896477251637e-35,\n",
       "                                           2.120950887920175e-34,\n",
       "                                           2.222996482526191e-33,\n",
       "                                           2.3299518105153814e-32,\n",
       "                                           2.442053094548655e-31,\n",
       "                                           2.5595479226995333e-30,\n",
       "                                           2.682695795279738e-29,\n",
       "                                           2.8117686979742367e-28,\n",
       "                                           2.9470517025518097e-27,\n",
       "                                           3.088843596477498e-26,\n",
       "                                           3.2374575428176533e-25,\n",
       "                                           3.3932217718953296e-24,\n",
       "                                           3.5564803062231215e-23,\n",
       "                                           3.7275937203149534e-22,\n",
       "                                           3.906939937054621e-21, ...]})</pre><b>In a Jupyter environment, please rerun this cell to show the HTML representation or trust the notebook. <br />On GitHub, the HTML representation is unable to render, please try loading this page with nbviewer.org.</b></div><div class=\"sk-container\" hidden><div class=\"sk-item sk-dashed-wrapped\"><div class=\"sk-label-container\"><div class=\"sk-label sk-toggleable\"><input class=\"sk-toggleable__control sk-hidden--visually\" id=\"sk-estimator-id-1\" type=\"checkbox\" ><label for=\"sk-estimator-id-1\" class=\"sk-toggleable__label sk-toggleable__label-arrow\">GridSearchCV</label><div class=\"sk-toggleable__content\"><pre>GridSearchCV(cv=5, estimator=GaussianNB(),\n",
       "             param_grid={&#x27;var_smoothing&#x27;: [1e-50, 1.0481131341546917e-49,\n",
       "                                           1.0985411419875528e-48,\n",
       "                                           1.1513953993264482e-47,\n",
       "                                           1.2067926406393363e-46,\n",
       "                                           1.2648552168552906e-45,\n",
       "                                           1.3257113655901109e-44,\n",
       "                                           1.3894954943731474e-43,\n",
       "                                           1.4563484775012384e-42,\n",
       "                                           1.5264179671752365e-41,\n",
       "                                           1.5998587196060442e-40,\n",
       "                                           1.676832936811003e-39,\n",
       "                                           1.7575106248547965e-38...\n",
       "                                           1.9306977288832458e-36,\n",
       "                                           2.0235896477251637e-35,\n",
       "                                           2.120950887920175e-34,\n",
       "                                           2.222996482526191e-33,\n",
       "                                           2.3299518105153814e-32,\n",
       "                                           2.442053094548655e-31,\n",
       "                                           2.5595479226995333e-30,\n",
       "                                           2.682695795279738e-29,\n",
       "                                           2.8117686979742367e-28,\n",
       "                                           2.9470517025518097e-27,\n",
       "                                           3.088843596477498e-26,\n",
       "                                           3.2374575428176533e-25,\n",
       "                                           3.3932217718953296e-24,\n",
       "                                           3.5564803062231215e-23,\n",
       "                                           3.7275937203149534e-22,\n",
       "                                           3.906939937054621e-21, ...]})</pre></div></div></div><div class=\"sk-parallel\"><div class=\"sk-parallel-item\"><div class=\"sk-item\"><div class=\"sk-label-container\"><div class=\"sk-label sk-toggleable\"><input class=\"sk-toggleable__control sk-hidden--visually\" id=\"sk-estimator-id-2\" type=\"checkbox\" ><label for=\"sk-estimator-id-2\" class=\"sk-toggleable__label sk-toggleable__label-arrow\">estimator: GaussianNB</label><div class=\"sk-toggleable__content\"><pre>GaussianNB()</pre></div></div></div><div class=\"sk-serial\"><div class=\"sk-item\"><div class=\"sk-estimator sk-toggleable\"><input class=\"sk-toggleable__control sk-hidden--visually\" id=\"sk-estimator-id-3\" type=\"checkbox\" ><label for=\"sk-estimator-id-3\" class=\"sk-toggleable__label sk-toggleable__label-arrow\">GaussianNB</label><div class=\"sk-toggleable__content\"><pre>GaussianNB()</pre></div></div></div></div></div></div></div></div></div></div>"
      ],
      "text/plain": [
       "GridSearchCV(cv=5, estimator=GaussianNB(),\n",
       "             param_grid={'var_smoothing': [1e-50, 1.0481131341546917e-49,\n",
       "                                           1.0985411419875528e-48,\n",
       "                                           1.1513953993264482e-47,\n",
       "                                           1.2067926406393363e-46,\n",
       "                                           1.2648552168552906e-45,\n",
       "                                           1.3257113655901109e-44,\n",
       "                                           1.3894954943731474e-43,\n",
       "                                           1.4563484775012384e-42,\n",
       "                                           1.5264179671752365e-41,\n",
       "                                           1.5998587196060442e-40,\n",
       "                                           1.676832936811003e-39,\n",
       "                                           1.7575106248547965e-38...\n",
       "                                           1.9306977288832458e-36,\n",
       "                                           2.0235896477251637e-35,\n",
       "                                           2.120950887920175e-34,\n",
       "                                           2.222996482526191e-33,\n",
       "                                           2.3299518105153814e-32,\n",
       "                                           2.442053094548655e-31,\n",
       "                                           2.5595479226995333e-30,\n",
       "                                           2.682695795279738e-29,\n",
       "                                           2.8117686979742367e-28,\n",
       "                                           2.9470517025518097e-27,\n",
       "                                           3.088843596477498e-26,\n",
       "                                           3.2374575428176533e-25,\n",
       "                                           3.3932217718953296e-24,\n",
       "                                           3.5564803062231215e-23,\n",
       "                                           3.7275937203149534e-22,\n",
       "                                           3.906939937054621e-21, ...]})"
      ]
     },
     "execution_count": 180,
     "metadata": {},
     "output_type": "execute_result"
    }
   ],
   "source": [
    "from sklearn.model_selection import GridSearchCV\n",
    "\n",
    "param_grid_NB = {\n",
    "    'var_smoothing': np.logspace(-50, 0, 50).tolist()\n",
    "}\n",
    "\n",
    "grid_search_NB = GridSearchCV(GaussianNB(), param_grid_NB, cv=5)\n",
    "grid_search_NB.fit(X_train, y_train)"
   ]
  },
  {
   "cell_type": "code",
   "execution_count": 181,
   "metadata": {},
   "outputs": [
    {
     "data": {
      "text/html": [
       "<style>#sk-container-id-2 {color: black;}#sk-container-id-2 pre{padding: 0;}#sk-container-id-2 div.sk-toggleable {background-color: white;}#sk-container-id-2 label.sk-toggleable__label {cursor: pointer;display: block;width: 100%;margin-bottom: 0;padding: 0.3em;box-sizing: border-box;text-align: center;}#sk-container-id-2 label.sk-toggleable__label-arrow:before {content: \"▸\";float: left;margin-right: 0.25em;color: #696969;}#sk-container-id-2 label.sk-toggleable__label-arrow:hover:before {color: black;}#sk-container-id-2 div.sk-estimator:hover label.sk-toggleable__label-arrow:before {color: black;}#sk-container-id-2 div.sk-toggleable__content {max-height: 0;max-width: 0;overflow: hidden;text-align: left;background-color: #f0f8ff;}#sk-container-id-2 div.sk-toggleable__content pre {margin: 0.2em;color: black;border-radius: 0.25em;background-color: #f0f8ff;}#sk-container-id-2 input.sk-toggleable__control:checked~div.sk-toggleable__content {max-height: 200px;max-width: 100%;overflow: auto;}#sk-container-id-2 input.sk-toggleable__control:checked~label.sk-toggleable__label-arrow:before {content: \"▾\";}#sk-container-id-2 div.sk-estimator input.sk-toggleable__control:checked~label.sk-toggleable__label {background-color: #d4ebff;}#sk-container-id-2 div.sk-label input.sk-toggleable__control:checked~label.sk-toggleable__label {background-color: #d4ebff;}#sk-container-id-2 input.sk-hidden--visually {border: 0;clip: rect(1px 1px 1px 1px);clip: rect(1px, 1px, 1px, 1px);height: 1px;margin: -1px;overflow: hidden;padding: 0;position: absolute;width: 1px;}#sk-container-id-2 div.sk-estimator {font-family: monospace;background-color: #f0f8ff;border: 1px dotted black;border-radius: 0.25em;box-sizing: border-box;margin-bottom: 0.5em;}#sk-container-id-2 div.sk-estimator:hover {background-color: #d4ebff;}#sk-container-id-2 div.sk-parallel-item::after {content: \"\";width: 100%;border-bottom: 1px solid gray;flex-grow: 1;}#sk-container-id-2 div.sk-label:hover label.sk-toggleable__label {background-color: #d4ebff;}#sk-container-id-2 div.sk-serial::before {content: \"\";position: absolute;border-left: 1px solid gray;box-sizing: border-box;top: 0;bottom: 0;left: 50%;z-index: 0;}#sk-container-id-2 div.sk-serial {display: flex;flex-direction: column;align-items: center;background-color: white;padding-right: 0.2em;padding-left: 0.2em;position: relative;}#sk-container-id-2 div.sk-item {position: relative;z-index: 1;}#sk-container-id-2 div.sk-parallel {display: flex;align-items: stretch;justify-content: center;background-color: white;position: relative;}#sk-container-id-2 div.sk-item::before, #sk-container-id-2 div.sk-parallel-item::before {content: \"\";position: absolute;border-left: 1px solid gray;box-sizing: border-box;top: 0;bottom: 0;left: 50%;z-index: -1;}#sk-container-id-2 div.sk-parallel-item {display: flex;flex-direction: column;z-index: 1;position: relative;background-color: white;}#sk-container-id-2 div.sk-parallel-item:first-child::after {align-self: flex-end;width: 50%;}#sk-container-id-2 div.sk-parallel-item:last-child::after {align-self: flex-start;width: 50%;}#sk-container-id-2 div.sk-parallel-item:only-child::after {width: 0;}#sk-container-id-2 div.sk-dashed-wrapped {border: 1px dashed gray;margin: 0 0.4em 0.5em 0.4em;box-sizing: border-box;padding-bottom: 0.4em;background-color: white;}#sk-container-id-2 div.sk-label label {font-family: monospace;font-weight: bold;display: inline-block;line-height: 1.2em;}#sk-container-id-2 div.sk-label-container {text-align: center;}#sk-container-id-2 div.sk-container {/* jupyter's `normalize.less` sets `[hidden] { display: none; }` but bootstrap.min.css set `[hidden] { display: none !important; }` so we also need the `!important` here to be able to override the default hidden behavior on the sphinx rendered scikit-learn.org. See: https://github.com/scikit-learn/scikit-learn/issues/21755 */display: inline-block !important;position: relative;}#sk-container-id-2 div.sk-text-repr-fallback {display: none;}</style><div id=\"sk-container-id-2\" class=\"sk-top-container\"><div class=\"sk-text-repr-fallback\"><pre>GaussianNB(var_smoothing=0.09540954763500041)</pre><b>In a Jupyter environment, please rerun this cell to show the HTML representation or trust the notebook. <br />On GitHub, the HTML representation is unable to render, please try loading this page with nbviewer.org.</b></div><div class=\"sk-container\" hidden><div class=\"sk-item\"><div class=\"sk-estimator sk-toggleable\"><input class=\"sk-toggleable__control sk-hidden--visually\" id=\"sk-estimator-id-4\" type=\"checkbox\" checked><label for=\"sk-estimator-id-4\" class=\"sk-toggleable__label sk-toggleable__label-arrow\">GaussianNB</label><div class=\"sk-toggleable__content\"><pre>GaussianNB(var_smoothing=0.09540954763500041)</pre></div></div></div></div></div>"
      ],
      "text/plain": [
       "GaussianNB(var_smoothing=0.09540954763500041)"
      ]
     },
     "execution_count": 181,
     "metadata": {},
     "output_type": "execute_result"
    }
   ],
   "source": [
    "grid_search_NB.best_estimator_"
   ]
  },
  {
   "cell_type": "code",
   "execution_count": 182,
   "metadata": {},
   "outputs": [
    {
     "data": {
      "text/plain": [
       "0.7117421826721049"
      ]
     },
     "execution_count": 182,
     "metadata": {},
     "output_type": "execute_result"
    }
   ],
   "source": [
    "grid_search_NB.best_score_"
   ]
  },
  {
   "cell_type": "code",
   "execution_count": 183,
   "metadata": {},
   "outputs": [
    {
     "data": {
      "text/plain": [
       "{'var_smoothing': 0.09540954763500041}"
      ]
     },
     "execution_count": 183,
     "metadata": {},
     "output_type": "execute_result"
    }
   ],
   "source": [
    "grid_search_NB.best_params_"
   ]
  },
  {
   "cell_type": "markdown",
   "metadata": {},
   "source": [
    "### d. Plot"
   ]
  },
  {
   "cell_type": "code",
   "execution_count": 184,
   "metadata": {},
   "outputs": [],
   "source": [
    "train_acc_NB = []\n",
    "test_acc_NB = []\n",
    "avg_train_acc_NB = []\n",
    "avg_test_acc_NB = []\n",
    "var_smoothingVals = np.logspace(-50, 0, 50).tolist()\n",
    "\n",
    "for i in var_smoothingVals:\n",
    "    for j in range(10):\n",
    "        coral_NB_default = GaussianNB(var_smoothing = i)\n",
    "        coral_NB_default.fit(X_train, y_train) \n",
    "        train_acc_NB.append(coral_NB_default.score(X_train_NB, y_train_NB)) \n",
    "        test_acc_NB.append(coral_NB_default.score(X_test_NB, y_test_NB))  \n",
    "    \n",
    "    avg_train_acc_NB.append(sum(train_acc_NB) / len(train_acc_NB))\n",
    "    avg_test_acc_NB.append(sum(test_acc_NB) / len(train_acc_NB))"
   ]
  },
  {
   "cell_type": "code",
   "execution_count": 185,
   "metadata": {},
   "outputs": [
    {
     "data": {
      "image/png": "[encoded data removed]",
      "text/plain": [
       "<Figure size 640x480 with 1 Axes>"
      ]
     },
     "metadata": {},
     "output_type": "display_data"
    }
   ],
   "source": [
    "plt.plot(var_smoothingVals, avg_train_acc_NB, label='Training Accuracy')\n",
    "plt.plot(var_smoothingVals, avg_test_acc_NB, label='Testing Accuracy')\n",
    "plt.xlabel('var_smoothing')\n",
    "plt.ylabel('Average Accuracy')\n",
    "plt.title('var_smoothing vs Accuracy')\n",
    "plt.legend()\n",
    "plt.show()"
   ]
  },
  {
   "cell_type": "markdown",
   "metadata": {},
   "source": [
    "### e. Evaluation Metrics for Naive Bayes with Optimal Parameter Tuning (Based on GridSearch)"
   ]
  },
  {
   "cell_type": "code",
   "execution_count": 232,
   "metadata": {},
   "outputs": [],
   "source": [
    "from sklearn.metrics import classification_report, accuracy_score, f1_score, recall_score, roc_auc_score, confusion_matrix, precision_score, roc_curve"
   ]
  },
  {
   "cell_type": "code",
   "execution_count": 187,
   "metadata": {},
   "outputs": [
    {
     "name": "stdout",
     "output_type": "stream",
     "text": [
      "              precision    recall  f1-score   support\n",
      "\n",
      "     Class 0       0.83      0.52      0.63       592\n",
      "     Class 1       0.62      0.88      0.73       532\n",
      "\n",
      "    accuracy                           0.69      1124\n",
      "   macro avg       0.72      0.70      0.68      1124\n",
      "weighted avg       0.73      0.69      0.68      1124\n",
      "\n",
      "\n",
      "Accuracy Score:  0.6877224199288257\n",
      "F1 Score:  0.7272727272727272\n",
      "Recall Per Class:  0.8796992481203008\n",
      "Precision:  0.6198675496688741\n",
      "ROC_AUC Score:  0.6974509754115017\n",
      "Confusion Matrix:\n",
      " [[305 287]\n",
      " [ 64 468]]\n"
     ]
    },
    {
     "data": {
      "image/png": "[encoded data removed]",
      "text/plain": [
       "<Figure size 800x600 with 1 Axes>"
      ]
     },
     "metadata": {},
     "output_type": "display_data"
    }
   ],
   "source": [
    "coral_NB = GaussianNB(var_smoothing = 0.09540954763500041)\n",
    "coral_NB.fit(X_train_NB, y_train_NB)\n",
    "\n",
    "coral_NB_predict = coral_NB.predict(X_test_NB)\n",
    "print(classification_report(y_test_NB, coral_NB_predict, target_names = ['Class 0', 'Class 1'])) \n",
    "# precision, recall, f1-score, and support (the number of true instances for each label)\n",
    "\n",
    "accuracy = accuracy_score(y_test_NB, coral_NB_predict)\n",
    "# f1 = f1_score(y_test_NB, coral_NB_predict, average = 'weighted')        # f1 =  0.6785447731674416 ('weighted' accounts for class imbalance)\n",
    "# recall = recall_score(y_test_NB, coral_NB_predict, average = 'weighted')    # recall 0.6877224199288257\n",
    "# precision = precision_score(y_test_NB, coral_NB_predict, average = 'weighted')  # precision = 0.7287295637444601\n",
    "\n",
    "f1 = f1_score(y_test_NB, coral_NB_predict)        # f1 =  0.7272727272727272\n",
    "recall = recall_score(y_test_NB, coral_NB_predict)  # recall = 0.8796992481203008\n",
    "precision = precision_score(y_test_NB, coral_NB_predict)  # precision = 0.6198675496688741\n",
    "\n",
    "roc_auc = roc_auc_score(y_test_NB, coral_NB_predict)\n",
    "confusion_matrix = confusion_matrix(y_test_NB, coral_NB_predict)\n",
    "\n",
    "print(\"\\nAccuracy Score: \", accuracy)\n",
    "print(\"F1 Score: \", f1)\n",
    "print(\"Recall Per Class: \", recall)\n",
    "print(\"Precision: \", precision)\n",
    "print(\"ROC_AUC Score: \", roc_auc)\n",
    "print(\"Confusion Matrix:\\n\", confusion_matrix)\n",
    "\n",
    "plt.figure(figsize=(8, 6))\n",
    "sns.heatmap(confusion_matrix, annot=True, fmt='d', cmap='Blues', cbar=False,\n",
    "            xticklabels=['Predicted 0', 'Predicted 1'],\n",
    "            yticklabels=['Actual 0', 'Actual 1'])\n",
    "plt.xlabel('Predicted label')\n",
    "plt.ylabel('True label')\n",
    "plt.title('Confusion Matrix')\n",
    "plt.show()\n"
   ]
  },
  {
   "cell_type": "code",
   "execution_count": 188,
   "metadata": {},
   "outputs": [
    {
     "data": {
      "image/png": "[encoded data removed]",
      "text/plain": [
       "<Figure size 800x600 with 1 Axes>"
      ]
     },
     "metadata": {},
     "output_type": "display_data"
    }
   ],
   "source": [
    "fpr_NB, tpr_NB, thresholds = roc_curve(y_test, coral_NB_predict)\n",
    "\n",
    "# Plot ROC Curve\n",
    "plt.figure(figsize=(8, 6))\n",
    "plt.plot(fpr_NB, tpr_NB, label='ROC Curve (AUC = {:.2f})'.format(roc_auc))\n",
    "plt.plot([0, 1], [0, 1], linestyle='--', color='gray', label='Random')\n",
    "plt.xlabel('False Positive Rate')\n",
    "plt.ylabel('True Positive Rate')\n",
    "plt.title('Receiver Operating Characteristic (ROC) Curve')\n",
    "plt.legend()\n",
    "plt.show()"
   ]
  },
  {
   "cell_type": "markdown",
   "metadata": {},
   "source": [
    "### f. Naive Bayes Performance w/o Feature Selection"
   ]
  },
  {
   "cell_type": "code",
   "execution_count": 233,
   "metadata": {},
   "outputs": [],
   "source": [
    "from sklearn.preprocessing import StandardScaler\n",
    "\n",
    "scaler = StandardScaler()\n",
    "X_rescaled_nd = scaler.fit_transform (X_resampled) \n",
    "X_train_nd, X_test_nd, y_train_nd, y_test_nd = train_test_split(X_rescaled_nd, y_resampled, test_size=0.20, random_state=42)"
   ]
  },
  {
   "cell_type": "code",
   "execution_count": 234,
   "metadata": {},
   "outputs": [
    {
     "name": "stdout",
     "output_type": "stream",
     "text": [
      "              precision    recall  f1-score   support\n",
      "\n",
      "     Class 0       0.86      0.38      0.53       592\n",
      "     Class 1       0.58      0.93      0.71       532\n",
      "\n",
      "    accuracy                           0.64      1124\n",
      "   macro avg       0.72      0.66      0.62      1124\n",
      "weighted avg       0.73      0.64      0.62      1124\n",
      "\n",
      "\n",
      "Training Accuracy Score:  0.6694839857651246\n",
      "Testing Accuracy Score:  0.6423487544483986\n",
      "F1 Score:  0.7112068965517241\n",
      "Recall Per Class:  0.9304511278195489\n",
      "Precision:  0.5755813953488372\n",
      "ROC_AUC Score:  0.6569485368827475\n",
      "Confusion Matrix:\n",
      " [[227 365]\n",
      " [ 37 495]]\n",
      "TPR: \n"
     ]
    },
    {
     "data": {
      "image/png": "[encoded data removed]",
      "text/plain": [
       "<Figure size 800x600 with 1 Axes>"
      ]
     },
     "metadata": {},
     "output_type": "display_data"
    }
   ],
   "source": [
    "coral = GaussianNB(var_smoothing = 0.09540954763500041)\n",
    "coral.fit(X_train_nd, y_train_nd)\n",
    "\n",
    "coral_predict = coral.predict(X_test_nd)\n",
    "print(classification_report(y_test_nd, coral_predict, target_names = ['Class 0', 'Class 1'])) \n",
    "\n",
    "accuracy = accuracy_score(y_test_nd, coral_predict)\n",
    "\n",
    "f1 = f1_score(y_test_nd, coral_predict)       \n",
    "recall = recall_score(y_test_nd, coral_predict) \n",
    "precision = precision_score(y_test_nd, coral_predict) \n",
    "\n",
    "roc_auc = roc_auc_score(y_test_nd, coral_predict)\n",
    "confusion_matrix = confusion_matrix(y_test_nd, coral_predict)\n",
    "\n",
    "print(\"\\nTraining Accuracy Score: \", coral.score(X_train_nd, y_train_nd))\n",
    "print(\"Testing Accuracy Score: \", accuracy)\n",
    "print(\"F1 Score: \", f1)\n",
    "print(\"Recall Per Class: \", recall)\n",
    "print(\"Precision: \", precision)\n",
    "print(\"ROC_AUC Score: \", roc_auc)\n",
    "print(\"Confusion Matrix:\\n\", confusion_matrix)\n",
    "\n",
    "print(\"TPR: \")\n",
    "\n",
    "plt.figure(figsize=(8, 6))\n",
    "sns.heatmap(confusion_matrix, annot=True, fmt='d', cmap='Blues', cbar=False,\n",
    "            xticklabels=['Predicted 0', 'Predicted 1'],\n",
    "            yticklabels=['Actual 0', 'Actual 1'])\n",
    "plt.xlabel('Predicted label')\n",
    "plt.ylabel('True label')\n",
    "plt.title('Confusion Matrix')\n",
    "plt.show()\n"
   ]
  }
 ],
 "metadata": {
  "kernelspec": {
   "display_name": "Python 3 (ipykernel)",
   "language": "python",
   "name": "python3"
  },
  "language_info": {
   "codemirror_mode": {
    "name": "ipython",
    "version": 3
   },
   "file_extension": ".py",
   "mimetype": "text/x-python",
   "name": "python",
   "nbconvert_exporter": "python",
   "pygments_lexer": "ipython3",
   "version": "3.11.6"
  }
 },
 "nbformat": 4,
 "nbformat_minor": 5
}
