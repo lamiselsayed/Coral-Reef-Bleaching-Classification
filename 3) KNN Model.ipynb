{
  "cells": [
    {
      "cell_type": "markdown",
      "id": "191c73ef",
      "metadata": {
        "id": "191c73ef"
      },
      "source": [
        "# CMP466 Project: Coral Reef Bleaching Classification\n",
        "*       Dataset Name: A Global Coral-Bleaching Database, 1980-2020\n",
        "\n",
        "*       I. Data Cleaning and Preprocessing\n",
        "*       II. Machine Learning Methods\n",
        "*               a. Decision Tree Classifier"
      ]
    },
    {
      "cell_type": "code",
      "execution_count": null,
      "metadata": {
        "id": "2FWqwTD8iU_z"
      },
      "outputs": [],
      "source": [
        "#ALL IMPORTS\n",
        "import pandas as pd\n",
        "import numpy as np\n",
        "import matplotlib.pyplot as plt\n",
        "import seaborn as sns\n",
        "\n",
        "from sklearn import preprocessing\n",
        "from sklearn.preprocessing import KBinsDiscretizer\n",
        "from sklearn.preprocessing import OrdinalEncoder\n",
        "from sklearn.preprocessing import OneHotEncoder\n",
        "\n",
        "from imblearn.under_sampling import RandomUnderSampler\n",
        "from imblearn.combine import SMOTETomek\n",
        "from imblearn.combine import SMOTEENN\n",
        "from collections import Counter\n",
        "\n",
        "from sklearn.feature_selection import SelectPercentile, f_classif\n",
        "from sklearn.model_selection import train_test_split\n",
        "\n",
        "from sklearn.tree import DecisionTreeClassifier\n"
      ],
      "id": "2FWqwTD8iU_z"
    },
    {
      "cell_type": "markdown",
      "id": "db422574",
      "metadata": {
        "id": "db422574"
      },
      "source": [
        "### I. Cleaning & Preprocessing the Dataset"
      ]
    },
    {
      "cell_type": "code",
      "execution_count": null,
      "id": "96487281",
      "metadata": {
        "id": "96487281"
      },
      "outputs": [],
      "source": [
        "dtype_options = {\n",
        "    'Distance_to_Shore' : 'object',\n",
        "    'Turbidity' : 'object',\n",
        "    'Percent_Bleaching' : 'object'\n",
        "}  # these features contain values that are either numerical or strings, so we need to change it to Object before proceeding\n",
        "\n",
        "myfilepath = r'global_bleaching_environmental.csv'"
      ]
    },
    {
      "cell_type": "code",
      "execution_count": null,
      "id": "c686c04a",
      "metadata": {
        "id": "c686c04a"
      },
      "outputs": [],
      "source": [
        "df = pd.read_csv(myfilepath, dtype = dtype_options)"
      ]
    },
    {
      "cell_type": "code",
      "execution_count": null,
      "id": "85e702fd",
      "metadata": {
        "id": "85e702fd"
      },
      "outputs": [],
      "source": [
        "#display(df)"
      ]
    },
    {
      "cell_type": "code",
      "execution_count": null,
      "id": "f2e4cd45",
      "metadata": {
        "id": "f2e4cd45"
      },
      "outputs": [],
      "source": [
        "#df.describe()       # data summary (original dataset without cleaning)"
      ]
    },
    {
      "cell_type": "code",
      "execution_count": null,
      "id": "e24d59af",
      "metadata": {
        "id": "e24d59af"
      },
      "outputs": [],
      "source": [
        "#df.info()           # non-null count is equal to the number of records because the empty cells are labelled as 'nd', not as null or NaN (doesn't recognize it)"
      ]
    },
    {
      "cell_type": "code",
      "execution_count": null,
      "id": "eea75054",
      "metadata": {
        "id": "eea75054"
      },
      "outputs": [],
      "source": [
        "#df.nunique()           # returns an int value representing the number of unique values (applied to all columns)"
      ]
    },
    {
      "cell_type": "code",
      "execution_count": null,
      "id": "70af48cf",
      "metadata": {
        "scrolled": true,
        "id": "70af48cf"
      },
      "outputs": [],
      "source": [
        "#df.isnull()         # we're getting all 'False' because it doesn't recognize 'nd' as null"
      ]
    },
    {
      "cell_type": "markdown",
      "id": "5e2224c3",
      "metadata": {
        "id": "5e2224c3"
      },
      "source": [
        "#### Identifying Columns/Records with 'nd'"
      ]
    },
    {
      "cell_type": "code",
      "execution_count": null,
      "id": "a2588302",
      "metadata": {
        "colab": {
          "base_uri": "https://localhost:8080/"
        },
        "id": "a2588302",
        "outputId": "3d92aec1-8e81-42b5-f78c-673679771ee5"
      },
      "outputs": [
        {
          "output_type": "execute_result",
          "data": {
            "text/plain": [
              "0        16607\n",
              "5.5       1184\n",
              "75         914\n",
              "0.25       882\n",
              "1          705\n",
              "         ...  \n",
              "5.32         1\n",
              "5.28         1\n",
              "5.27         1\n",
              "5.23         1\n",
              "97.22        1\n",
              "Name: Percent_Bleaching, Length: 2271, dtype: int64"
            ]
          },
          "metadata": {},
          "execution_count": 9
        }
      ],
      "source": [
        " # first, drop any record with no target\n",
        "\n",
        "df_new1 = df[df['Percent_Bleaching'] != 'nd']\n",
        "df_new1['Percent_Bleaching'].value_counts()"
      ]
    },
    {
      "cell_type": "code",
      "execution_count": null,
      "id": "b4d3ed71",
      "metadata": {
        "colab": {
          "base_uri": "https://localhost:8080/"
        },
        "id": "b4d3ed71",
        "outputId": "0f43f652-96a1-439a-cdd4-cf24f7de8dfc"
      },
      "outputs": [
        {
          "output_type": "execute_result",
          "data": {
            "text/plain": [
              "(34515, 62)"
            ]
          },
          "metadata": {},
          "execution_count": 10
        }
      ],
      "source": [
        "df_new1.shape            # now, the dataset is composed of 34515 records with the number of columns unchanged"
      ]
    },
    {
      "cell_type": "code",
      "execution_count": null,
      "id": "362b1db2",
      "metadata": {
        "colab": {
          "base_uri": "https://localhost:8080/"
        },
        "id": "362b1db2",
        "outputId": "2b1c151d-6b1a-4290-a291-851abb63e272"
      },
      "outputs": [
        {
          "output_type": "stream",
          "name": "stdout",
          "text": [
            "['Reef_ID', 'Site_Name', 'Substrate_Name', 'Percent_Cover', 'Bleaching_Level', 'Site_Comments', 'Sample_Comments', 'Bleaching_Comments']\n"
          ]
        }
      ],
      "source": [
        "# identify any columns with 'nd' occupying more than 10% of its rows\n",
        "\n",
        "cols1 = df_new1.columns.values   # cols contains the columns names as a list\n",
        "cols1_to_drop = []               # store columns to drop in this list\n",
        "for c in cols1:                  # iterate through each value belonging to the columns and search for those columns with more than 10% of its rows as 'nd'\n",
        "    ndCount = (df_new1[c] == 'nd').sum()\n",
        "    if ndCount > 0.1 * df_new1.shape[0]:\n",
        "        cols1_to_drop.append(c)\n",
        "print(cols1_to_drop)            # Output: ['Reef_ID', 'Site_Name', 'Substrate_Name', 'Percent_Cover', 'Bleaching_Level', 'Site_Comments', 'Sample_Comments', 'Bleaching_Comments']\n",
        "                                # To check the values of Bleaching_Level --> df_new['Bleaching_Level'].value_counts()"
      ]
    },
    {
      "cell_type": "code",
      "execution_count": null,
      "id": "f4bd7247",
      "metadata": {
        "colab": {
          "base_uri": "https://localhost:8080/"
        },
        "id": "f4bd7247",
        "outputId": "50e36ee8-fce4-4f41-cdaf-09db7601433d"
      },
      "outputs": [
        {
          "output_type": "execute_result",
          "data": {
            "text/plain": [
              "18"
            ]
          },
          "metadata": {},
          "execution_count": 12
        }
      ],
      "source": [
        "cols1_to_drop.extend(['SSTA_Mean', 'Data_Source', 'Country_Name', 'State_Island_Province_Name', 'City_Town_Name', 'Date', 'Date_Day', 'Date_Month', 'Date_Year', 'Site_ID'])\n",
        "len(cols1_to_drop)    # we added irrelevant or completely zero columns to remove as well"
      ]
    },
    {
      "cell_type": "code",
      "execution_count": null,
      "id": "32d61872",
      "metadata": {
        "id": "32d61872"
      },
      "outputs": [],
      "source": [
        "# now, drop the identified columns/features\n",
        "\n",
        "df_new2 = df_new1.drop(columns = cols1_to_drop)\n",
        "#display(df_new2)"
      ]
    },
    {
      "cell_type": "code",
      "execution_count": null,
      "id": "ad3f950b",
      "metadata": {
        "colab": {
          "base_uri": "https://localhost:8080/"
        },
        "id": "ad3f950b",
        "outputId": "b9fa4ce3-fe46-4d63-f1fc-8e96868e192c"
      },
      "outputs": [
        {
          "output_type": "execute_result",
          "data": {
            "text/plain": [
              "(34515, 44)"
            ]
          },
          "metadata": {},
          "execution_count": 14
        }
      ],
      "source": [
        "df_new2.shape                   # now, the dataset is composed of 34515 records and 54 columns (including target)"
      ]
    },
    {
      "cell_type": "code",
      "execution_count": null,
      "id": "fb9ec08a",
      "metadata": {
        "id": "fb9ec08a"
      },
      "outputs": [],
      "source": [
        "df_new3 = df_new2.replace('nd', np.nan).dropna()       # remove any records with 'nd'\n",
        "#df_new3"
      ]
    },
    {
      "cell_type": "code",
      "execution_count": null,
      "id": "0de06622",
      "metadata": {
        "id": "0de06622"
      },
      "outputs": [],
      "source": [
        "#df_new3.replace('nd', np.nan).isnull().sum()      # checking that all columns now have no null values"
      ]
    },
    {
      "cell_type": "markdown",
      "id": "d0d958b1",
      "metadata": {
        "id": "d0d958b1"
      },
      "source": [
        "#### Checking Collinearity\n",
        "\n",
        "TODO:\n",
        "* Go over all features and see which ones have mixed data types (find a way to check data types for individual vals of the column)\n",
        "* We can follow the paper, where any features with a collinearity coefficient higher than 0.8 are dropped\n",
        "*       Some features mentioned in the paper are TSA_DHW and wind speed\n",
        "* Features Highly Correlated with Coral Bleaching (As Indicated in Paper):\n",
        "*       SST, SSTA, Coral Depth, Longitude, Latitude      \n"
      ]
    },
    {
      "cell_type": "code",
      "execution_count": null,
      "id": "a8b0816b",
      "metadata": {
        "id": "a8b0816b"
      },
      "outputs": [],
      "source": [
        "#df_new3.info()          # we want to check the data types for each column\n",
        "                        # it seems that many columns are classified as 'object', where if you check the type of each value, it will give you string even if the type is float!"
      ]
    },
    {
      "cell_type": "code",
      "execution_count": null,
      "id": "3ecd5e28",
      "metadata": {
        "id": "3ecd5e28"
      },
      "outputs": [],
      "source": [
        "# identify all columns of data type 'object'\n",
        "object_columns = df_new3.select_dtypes(include = ['object'])\n",
        "#object_columns.info()"
      ]
    },
    {
      "cell_type": "code",
      "execution_count": null,
      "id": "3f10bec7",
      "metadata": {
        "id": "3f10bec7"
      },
      "outputs": [],
      "source": [
        "notFloat_cols = ['Ocean_Name', 'Realm_Name', 'Ecoregion_Name', 'Exposure']\n",
        "float_cols = [col for col in object_columns if col not in notFloat_cols]\n",
        "df_new4 = df_new3\n",
        "df_new4[float_cols] = df_new3[float_cols].astype(float)\n",
        "#df_new4.info()"
      ]
    },
    {
      "cell_type": "code",
      "execution_count": null,
      "id": "be9d29d3",
      "metadata": {
        "id": "be9d29d3"
      },
      "outputs": [],
      "source": [
        "df_new4[notFloat_cols] = df_new4[notFloat_cols].astype('string')\n",
        "#df_new4.info()"
      ]
    },
    {
      "cell_type": "code",
      "execution_count": null,
      "id": "39f8ac80",
      "metadata": {
        "id": "39f8ac80"
      },
      "outputs": [],
      "source": [
        "#df_new4.corr(numeric_only = True)      # correlation matrix"
      ]
    },
    {
      "cell_type": "code",
      "execution_count": null,
      "id": "67c0473f",
      "metadata": {
        "id": "67c0473f"
      },
      "outputs": [],
      "source": [
        "#sns.heatmap(df_new4.corr(numeric_only = True), cmap = 'RdBu')"
      ]
    },
    {
      "cell_type": "markdown",
      "id": "3b9d1f9a",
      "metadata": {
        "id": "3b9d1f9a"
      },
      "source": [
        "#### Next Step is to Encode Features\n",
        "*     Exposure -> ordinal (integer encoding)\n",
        "*           df_new4['Exposure'].nunique() -> 3\n",
        "*     Ocean Name -> nominal (one-hot encoding)\n",
        "*     Other Names -> nominal (one-hot encoding)\n"
      ]
    },
    {
      "cell_type": "code",
      "execution_count": null,
      "id": "f2523414",
      "metadata": {
        "id": "f2523414"
      },
      "outputs": [],
      "source": [
        "df_new5 = df_new4"
      ]
    },
    {
      "cell_type": "code",
      "execution_count": null,
      "id": "c2411828",
      "metadata": {
        "id": "c2411828"
      },
      "outputs": [],
      "source": [
        "ordinal_encoder = OrdinalEncoder()\n",
        "df_new5[['Exposure']] = ordinal_encoder.fit_transform(df_new5[['Exposure']])        # for reference: 0.0 is Exposed, 1.0 is Sheltered, 2.0 is Sometimes"
      ]
    },
    {
      "cell_type": "code",
      "execution_count": null,
      "id": "73bf53e8",
      "metadata": {
        "id": "73bf53e8"
      },
      "outputs": [],
      "source": [
        "#oneHot_encoder = OneHotEncoder()\n",
        "#encodedCols = ['Ocean_Name', 'Ecoregion_Name', 'Country_Name', 'State_Island_Province_Name', 'City_Town_Name']       # I'm assuming no need for 'Data_Source'???\n",
        "\n",
        "#oneHot_encoder_result = oneHot_encoder.fit_transform(df_new5[encodedCols])\n",
        "#df_new5 = df_new5.join( pd.DataFrame( oneHot_encoder_result.toarray(), columns = oneHot_encoder.categories_ ))    # DataFrame consists of the data and the columns\n",
        "                                                                                                                  # Converting the resultant OHE matrix to an array and then to a dataframe\n",
        "                                                                                                                  # oneHot_encoder.feature_names_in_ -> gives you only the feature name!!\n",
        "                                                                                                                  # we want the categories -> onehot_enc.categories_\n",
        "# ^^^ last line gives this error: ValueError: all arrays must be same length"
      ]
    },
    {
      "cell_type": "code",
      "execution_count": null,
      "id": "02998e24",
      "metadata": {
        "id": "02998e24"
      },
      "outputs": [],
      "source": [
        "encodedCols = ['Ocean_Name', 'Ecoregion_Name', 'Realm_Name']       # 5 cols for Ocean, 8 for Realm, 100 for Ecoregeion\n",
        "df_new6 = pd.get_dummies(df_new5, columns=encodedCols).astype(int)\n",
        "#display(df_new6)"
      ]
    },
    {
      "cell_type": "markdown",
      "id": "f9f48505",
      "metadata": {
        "id": "f9f48505"
      },
      "source": [
        "##### So far (as of df_new6) we have 32675 records, and 154 columns\n",
        "42 features total + 1 label column\\\n",
        "113 of the cols are OHE for 3 features\\\n",
        "during model training we will feed 152 features (removing the sample ID)"
      ]
    },
    {
      "cell_type": "markdown",
      "id": "a9a06fb0",
      "metadata": {
        "id": "a9a06fb0"
      },
      "source": [
        "##### Discretizing Target Percent Bleaching"
      ]
    },
    {
      "cell_type": "code",
      "execution_count": null,
      "id": "1350a5f5",
      "metadata": {
        "colab": {
          "base_uri": "https://localhost:8080/"
        },
        "id": "1350a5f5",
        "outputId": "5123359f-ad9d-42ab-e437-f284a56db0bc"
      },
      "outputs": [
        {
          "output_type": "execute_result",
          "data": {
            "text/plain": [
              "0     19111\n",
              "1      2065\n",
              "5      1563\n",
              "2      1167\n",
              "3       721\n",
              "      ...  \n",
              "94       10\n",
              "79        9\n",
              "97        7\n",
              "84        6\n",
              "99        2\n",
              "Name: Percent_Bleaching, Length: 101, dtype: int64"
            ]
          },
          "metadata": {},
          "execution_count": 27
        }
      ],
      "source": [
        "df_new6['Percent_Bleaching'].value_counts()"
      ]
    },
    {
      "cell_type": "markdown",
      "metadata": {
        "id": "ZSatBviLiU_6"
      },
      "source": [
        "#### Feature Selection Before Discretization"
      ],
      "id": "ZSatBviLiU_6"
    },
    {
      "cell_type": "code",
      "execution_count": null,
      "metadata": {
        "id": "zg7bLwoaiU_6"
      },
      "outputs": [],
      "source": [
        "#df_new9 = df_new6\n",
        "\n",
        "#y = df_new9['Percent_Bleaching'].to_numpy()\n",
        "#X = df_new9.drop(columns=['Sample_ID', 'Percent_Bleaching']).to_numpy()\n",
        "\n",
        "\n",
        "#X_new = SelectPercentile(f_classif, percentile = 50).fit_transform(X, y)\n",
        "\n",
        "#X_train, X_test, y_train, y_test = train_test_split(X_new, y, test_size=0.20, random_state=42)\n",
        "\n",
        "#coral_DT = DecisionTreeClassifier()\n",
        "#coral_DT.fit(X_train, y_train)\n",
        "\n",
        "#print(coral_DT.score(X_train, y_train))\n",
        "#print(coral_DT.score(X_test, y_test))"
      ],
      "id": "zg7bLwoaiU_6"
    },
    {
      "cell_type": "markdown",
      "metadata": {
        "id": "aPC99GsDiU_7"
      },
      "source": [
        "# Graph Discretized Bins vs Accuracy"
      ],
      "id": "aPC99GsDiU_7"
    },
    {
      "cell_type": "code",
      "execution_count": null,
      "metadata": {
        "colab": {
          "base_uri": "https://localhost:8080/",
          "height": 472
        },
        "id": "ahfFO37-iU_7",
        "outputId": "376c80ed-0edb-4553-fa8b-d5c5a27daf09"
      },
      "outputs": [
        {
          "output_type": "display_data",
          "data": {
            "text/plain": [
              "<Figure size 640x480 with 1 Axes>"
            ],
            "image/png": "[encoded data removed]"
          },
          "metadata": {}
        }
      ],
      "source": [
        "train_acc = []\n",
        "test_acc = []\n",
        "node_count = []\n",
        "\n",
        "binsList = list(range(2,10))\n",
        "for n in binsList:\n",
        "    kbd = KBinsDiscretizer(n_bins=n, encode='ordinal', strategy='kmeans')\n",
        "    df_new7 = df_new6 # make a copy\n",
        "\n",
        "# The below is for when we want to mask the zeros\n",
        "#    df_new7['Percent_Bleaching_Discretized'] = df_new7['Percent_Bleaching'] # create a new column (just so we can compare) we'll drop it later\n",
        "#    mask = (df_new7['Percent_Bleaching_Discretized'] > 0) # Make a mask for the non-zero targets so we can discretize them\n",
        "#    discretized_values = kbd.fit_transform(df_new7.loc[mask, ['Percent_Bleaching_Discretized']]) # discretize the non-zeros\n",
        "#    df_new7.loc[mask, 'Percent_Bleaching_Discretized'] = discretized_values + 1 # to avoid overlapping zeros from original data and zero from dicsretization add 1\n",
        "\n",
        "    df_new7['Percent_Bleaching_Discretized'] = df_new7['Percent_Bleaching']\n",
        "    df_new7['Percent_Bleaching_Discretized'] = kbd.fit_transform(df_new7[['Percent_Bleaching_Discretized']])\n",
        "    df_new7[['Percent_Bleaching','Percent_Bleaching_Discretized']]\n",
        "\n",
        "    y = df_new7['Percent_Bleaching_Discretized'].to_numpy()\n",
        "    X = df_new7.drop(columns=['Sample_ID', 'Percent_Bleaching','Percent_Bleaching_Discretized']).to_numpy()\n",
        "\n",
        "    X_train, X_test, y_train, y_test = train_test_split(X, y, test_size=0.20, random_state=42)\n",
        "\n",
        "    coralDT = DecisionTreeClassifier() #create the tree\n",
        "    coralDT.fit(X_train, y_train) #train the tree\n",
        "    train_acc.append(coralDT.score(X_train, y_train)) #retrieve the training accuracy from transforming\n",
        "    test_acc.append(coralDT.score(X_test, y_test))  #retrieve the testing accuracy from transforming\n",
        "    node_count.append(coralDT.tree_.node_count) #retrieve the nodes used\n",
        "\n",
        "plt.plot(node_count, train_acc, label='Training Accuracy')\n",
        "plt.plot(node_count, test_acc, label='Testing Accuracy')\n",
        "plt.xlabel('Number of Nodes')\n",
        "plt.ylabel('Average Accuracy')\n",
        "plt.title('Nodes vs. Accuracy')\n",
        "plt.legend()\n",
        "plt.show()\n",
        "\n",
        "\n",
        "#    df_new7[['Percent_Bleaching','Percent_Bleaching_Discretized']]"
      ],
      "id": "ahfFO37-iU_7"
    },
    {
      "cell_type": "code",
      "execution_count": null,
      "metadata": {
        "colab": {
          "base_uri": "https://localhost:8080/",
          "height": 472
        },
        "id": "pXauoWqviU_7",
        "outputId": "30e5fdd4-440b-4b9d-8894-c39e9dd2a475"
      },
      "outputs": [
        {
          "output_type": "display_data",
          "data": {
            "text/plain": [
              "<Figure size 640x480 with 1 Axes>"
            ],
            "image/png": "[encoded data removed]"
          },
          "metadata": {}
        }
      ],
      "source": [
        "train_acc = []\n",
        "test_acc = []\n",
        "\n",
        "binsList = list(range(2,10))\n",
        "for n in binsList:\n",
        "    kbd = KBinsDiscretizer(n_bins=n, encode='ordinal', strategy='kmeans')\n",
        "    df_new7 = df_new6 # make a copy\n",
        "\n",
        "# The below is for when we want to mask the zeros\n",
        "#    df_new7['Percent_Bleaching_Discretized'] = df_new7['Percent_Bleaching'] # create a new column (just so we can compare) we'll drop it later\n",
        "#    mask = (df_new7['Percent_Bleaching_Discretized'] > 0) # Make a mask for the non-zero targets so we can discretize them\n",
        "#    discretized_values = kbd.fit_transform(df_new7.loc[mask, ['Percent_Bleaching_Discretized']]) # discretize the non-zeros\n",
        "#    df_new7.loc[mask, 'Percent_Bleaching_Discretized'] = discretized_values + 1 # to avoid overlapping zeros from original data and zero from dicsretization add 1\n",
        "\n",
        "    df_new7['Percent_Bleaching_Discretized'] = df_new7['Percent_Bleaching']\n",
        "    df_new7['Percent_Bleaching_Discretized'] = kbd.fit_transform(df_new7[['Percent_Bleaching_Discretized']])\n",
        "    df_new7[['Percent_Bleaching','Percent_Bleaching_Discretized']]\n",
        "\n",
        "    y = df_new7['Percent_Bleaching_Discretized'].to_numpy()\n",
        "    X = df_new7.drop(columns=['Sample_ID', 'Percent_Bleaching','Percent_Bleaching_Discretized']).to_numpy()\n",
        "\n",
        "    X_train, X_test, y_train, y_test = train_test_split(X, y, test_size=0.20, random_state=42)\n",
        "\n",
        "    coralDT = DecisionTreeClassifier() #create the tree\n",
        "    coralDT.fit(X_train, y_train) #train the tree\n",
        "    train_acc.append(coralDT.score(X_train, y_train)) #retrieve the training accuracy from transforming\n",
        "    test_acc.append(coralDT.score(X_test, y_test))  #retrieve the testing accuracy from transforming\n",
        "\n",
        "plt.plot(binsList, train_acc, label='Training Accuracy')\n",
        "plt.plot(binsList, test_acc, label='Testing Accuracy')\n",
        "plt.xlabel('Number of Bins')\n",
        "plt.ylabel('Average Accuracy')\n",
        "plt.title('Bins vs. Accuracy')\n",
        "plt.legend()\n",
        "plt.show()\n"
      ],
      "id": "pXauoWqviU_7"
    },
    {
      "cell_type": "markdown",
      "metadata": {
        "id": "NHK1Dv_oiVAF"
      },
      "source": [
        "# Discretization"
      ],
      "id": "NHK1Dv_oiVAF"
    },
    {
      "cell_type": "code",
      "execution_count": null,
      "metadata": {
        "id": "Z8Ux8WIJiVAF"
      },
      "outputs": [],
      "source": [
        "#kbd = KBinsDiscretizer(n_bins=2, encode='ordinal', strategy='kmeans')   # K-means Discretization\n",
        "                                                                        # Test to see which is the optimal number of bins\n",
        "#df_new7 = df_new6 # make a copy\n",
        "#df_new7['Percent_Bleaching_Discretized'] = df_new7['Percent_Bleaching'] # create a new column (just so we can compare) we'll drop it later\n",
        "#mask = (df_new7['Percent_Bleaching_Discretized'] > 0) # Make a mask for the non-zero targets so we can discretize them\n",
        "#discretized_values = kbd.fit_transform(df_new7.loc[mask, ['Percent_Bleaching_Discretized']]) # discretize the non-zeros\n",
        "#df_new7.loc[mask, 'Percent_Bleaching_Discretized'] = discretized_values + 1 # to avoid overlapping zeros from original data and zero from dicsretization add 1\n",
        "#df_new7[['Percent_Bleaching','Percent_Bleaching_Discretized']]"
      ],
      "id": "Z8Ux8WIJiVAF"
    },
    {
      "cell_type": "code",
      "execution_count": null,
      "metadata": {
        "id": "llAIxTZ0iVAF"
      },
      "outputs": [],
      "source": [
        "#df_new7['Percent_Bleaching_Discretized'].value_counts()"
      ],
      "id": "llAIxTZ0iVAF"
    },
    {
      "cell_type": "code",
      "execution_count": null,
      "metadata": {
        "id": "n9FWxPokiVAG"
      },
      "outputs": [],
      "source": [
        "#kbd.bin_edges_"
      ],
      "id": "n9FWxPokiVAG"
    },
    {
      "cell_type": "markdown",
      "metadata": {
        "id": "RXxZcU-FiVAG"
      },
      "source": [
        "# Discretize without Mask"
      ],
      "id": "RXxZcU-FiVAG"
    },
    {
      "cell_type": "code",
      "execution_count": null,
      "metadata": {
        "colab": {
          "base_uri": "https://localhost:8080/",
          "height": 424
        },
        "id": "7IBApwqaiVAG",
        "outputId": "49c25c22-8620-48cb-9ce6-d437272d1dc1"
      },
      "outputs": [
        {
          "output_type": "execute_result",
          "data": {
            "text/plain": [
              "       Percent_Bleaching  Percent_Bleaching_Discretized\n",
              "0                     50                            1.0\n",
              "1                     50                            1.0\n",
              "2                     50                            1.0\n",
              "3                     50                            1.0\n",
              "4                     50                            1.0\n",
              "...                  ...                            ...\n",
              "35040                100                            1.0\n",
              "35041                100                            1.0\n",
              "35042                100                            1.0\n",
              "35043                100                            1.0\n",
              "35044                100                            1.0\n",
              "\n",
              "[32675 rows x 2 columns]"
            ],
            "text/html": [
              "\n",
              "  <div id=\"df-76023637-b81b-417d-a60a-005f3e8723fd\" class=\"colab-df-container\">\n",
              "    <div>\n",
              "<style scoped>\n",
              "    .dataframe tbody tr th:only-of-type {\n",
              "        vertical-align: middle;\n",
              "    }\n",
              "\n",
              "    .dataframe tbody tr th {\n",
              "        vertical-align: top;\n",
              "    }\n",
              "\n",
              "    .dataframe thead th {\n",
              "        text-align: right;\n",
              "    }\n",
              "</style>\n",
              "<table border=\"1\" class=\"dataframe\">\n",
              "  <thead>\n",
              "    <tr style=\"text-align: right;\">\n",
              "      <th></th>\n",
              "      <th>Percent_Bleaching</th>\n",
              "      <th>Percent_Bleaching_Discretized</th>\n",
              "    </tr>\n",
              "  </thead>\n",
              "  <tbody>\n",
              "    <tr>\n",
              "      <th>0</th>\n",
              "      <td>50</td>\n",
              "      <td>1.0</td>\n",
              "    </tr>\n",
              "    <tr>\n",
              "      <th>1</th>\n",
              "      <td>50</td>\n",
              "      <td>1.0</td>\n",
              "    </tr>\n",
              "    <tr>\n",
              "      <th>2</th>\n",
              "      <td>50</td>\n",
              "      <td>1.0</td>\n",
              "    </tr>\n",
              "    <tr>\n",
              "      <th>3</th>\n",
              "      <td>50</td>\n",
              "      <td>1.0</td>\n",
              "    </tr>\n",
              "    <tr>\n",
              "      <th>4</th>\n",
              "      <td>50</td>\n",
              "      <td>1.0</td>\n",
              "    </tr>\n",
              "    <tr>\n",
              "      <th>...</th>\n",
              "      <td>...</td>\n",
              "      <td>...</td>\n",
              "    </tr>\n",
              "    <tr>\n",
              "      <th>35040</th>\n",
              "      <td>100</td>\n",
              "      <td>1.0</td>\n",
              "    </tr>\n",
              "    <tr>\n",
              "      <th>35041</th>\n",
              "      <td>100</td>\n",
              "      <td>1.0</td>\n",
              "    </tr>\n",
              "    <tr>\n",
              "      <th>35042</th>\n",
              "      <td>100</td>\n",
              "      <td>1.0</td>\n",
              "    </tr>\n",
              "    <tr>\n",
              "      <th>35043</th>\n",
              "      <td>100</td>\n",
              "      <td>1.0</td>\n",
              "    </tr>\n",
              "    <tr>\n",
              "      <th>35044</th>\n",
              "      <td>100</td>\n",
              "      <td>1.0</td>\n",
              "    </tr>\n",
              "  </tbody>\n",
              "</table>\n",
              "<p>32675 rows × 2 columns</p>\n",
              "</div>\n",
              "    <div class=\"colab-df-buttons\">\n",
              "\n",
              "  <div class=\"colab-df-container\">\n",
              "    <button class=\"colab-df-convert\" onclick=\"convertToInteractive('df-76023637-b81b-417d-a60a-005f3e8723fd')\"\n",
              "            title=\"Convert this dataframe to an interactive table.\"\n",
              "            style=\"display:none;\">\n",
              "\n",
              "  <svg xmlns=\"http://www.w3.org/2000/svg\" height=\"24px\" viewBox=\"0 -960 960 960\">\n",
              "    <path d=\"M120-120v-720h720v720H120Zm60-500h600v-160H180v160Zm220 220h160v-160H400v160Zm0 220h160v-160H400v160ZM180-400h160v-160H180v160Zm440 0h160v-160H620v160ZM180-180h160v-160H180v160Zm440 0h160v-160H620v160Z\"/>\n",
              "  </svg>\n",
              "    </button>\n",
              "\n",
              "  <style>\n",
              "    .colab-df-container {\n",
              "      display:flex;\n",
              "      gap: 12px;\n",
              "    }\n",
              "\n",
              "    .colab-df-convert {\n",
              "      background-color: #E8F0FE;\n",
              "      border: none;\n",
              "      border-radius: 50%;\n",
              "      cursor: pointer;\n",
              "      display: none;\n",
              "      fill: #1967D2;\n",
              "      height: 32px;\n",
              "      padding: 0 0 0 0;\n",
              "      width: 32px;\n",
              "    }\n",
              "\n",
              "    .colab-df-convert:hover {\n",
              "      background-color: #E2EBFA;\n",
              "      box-shadow: 0px 1px 2px rgba(60, 64, 67, 0.3), 0px 1px 3px 1px rgba(60, 64, 67, 0.15);\n",
              "      fill: #174EA6;\n",
              "    }\n",
              "\n",
              "    .colab-df-buttons div {\n",
              "      margin-bottom: 4px;\n",
              "    }\n",
              "\n",
              "    [theme=dark] .colab-df-convert {\n",
              "      background-color: #3B4455;\n",
              "      fill: #D2E3FC;\n",
              "    }\n",
              "\n",
              "    [theme=dark] .colab-df-convert:hover {\n",
              "      background-color: #434B5C;\n",
              "      box-shadow: 0px 1px 3px 1px rgba(0, 0, 0, 0.15);\n",
              "      filter: drop-shadow(0px 1px 2px rgba(0, 0, 0, 0.3));\n",
              "      fill: #FFFFFF;\n",
              "    }\n",
              "  </style>\n",
              "\n",
              "    <script>\n",
              "      const buttonEl =\n",
              "        document.querySelector('#df-76023637-b81b-417d-a60a-005f3e8723fd button.colab-df-convert');\n",
              "      buttonEl.style.display =\n",
              "        google.colab.kernel.accessAllowed ? 'block' : 'none';\n",
              "\n",
              "      async function convertToInteractive(key) {\n",
              "        const element = document.querySelector('#df-76023637-b81b-417d-a60a-005f3e8723fd');\n",
              "        const dataTable =\n",
              "          await google.colab.kernel.invokeFunction('convertToInteractive',\n",
              "                                                    [key], {});\n",
              "        if (!dataTable) return;\n",
              "\n",
              "        const docLinkHtml = 'Like what you see? Visit the ' +\n",
              "          '<a target=\"_blank\" href=https://colab.research.google.com/notebooks/data_table.ipynb>data table notebook</a>'\n",
              "          + ' to learn more about interactive tables.';\n",
              "        element.innerHTML = '';\n",
              "        dataTable['output_type'] = 'display_data';\n",
              "        await google.colab.output.renderOutput(dataTable, element);\n",
              "        const docLink = document.createElement('div');\n",
              "        docLink.innerHTML = docLinkHtml;\n",
              "        element.appendChild(docLink);\n",
              "      }\n",
              "    </script>\n",
              "  </div>\n",
              "\n",
              "\n",
              "<div id=\"df-74be8af8-6ae9-4a72-885b-a5a62c0a4408\">\n",
              "  <button class=\"colab-df-quickchart\" onclick=\"quickchart('df-74be8af8-6ae9-4a72-885b-a5a62c0a4408')\"\n",
              "            title=\"Suggest charts\"\n",
              "            style=\"display:none;\">\n",
              "\n",
              "<svg xmlns=\"http://www.w3.org/2000/svg\" height=\"24px\"viewBox=\"0 0 24 24\"\n",
              "     width=\"24px\">\n",
              "    <g>\n",
              "        <path d=\"M19 3H5c-1.1 0-2 .9-2 2v14c0 1.1.9 2 2 2h14c1.1 0 2-.9 2-2V5c0-1.1-.9-2-2-2zM9 17H7v-7h2v7zm4 0h-2V7h2v10zm4 0h-2v-4h2v4z\"/>\n",
              "    </g>\n",
              "</svg>\n",
              "  </button>\n",
              "\n",
              "<style>\n",
              "  .colab-df-quickchart {\n",
              "      --bg-color: #E8F0FE;\n",
              "      --fill-color: #1967D2;\n",
              "      --hover-bg-color: #E2EBFA;\n",
              "      --hover-fill-color: #174EA6;\n",
              "      --disabled-fill-color: #AAA;\n",
              "      --disabled-bg-color: #DDD;\n",
              "  }\n",
              "\n",
              "  [theme=dark] .colab-df-quickchart {\n",
              "      --bg-color: #3B4455;\n",
              "      --fill-color: #D2E3FC;\n",
              "      --hover-bg-color: #434B5C;\n",
              "      --hover-fill-color: #FFFFFF;\n",
              "      --disabled-bg-color: #3B4455;\n",
              "      --disabled-fill-color: #666;\n",
              "  }\n",
              "\n",
              "  .colab-df-quickchart {\n",
              "    background-color: var(--bg-color);\n",
              "    border: none;\n",
              "    border-radius: 50%;\n",
              "    cursor: pointer;\n",
              "    display: none;\n",
              "    fill: var(--fill-color);\n",
              "    height: 32px;\n",
              "    padding: 0;\n",
              "    width: 32px;\n",
              "  }\n",
              "\n",
              "  .colab-df-quickchart:hover {\n",
              "    background-color: var(--hover-bg-color);\n",
              "    box-shadow: 0 1px 2px rgba(60, 64, 67, 0.3), 0 1px 3px 1px rgba(60, 64, 67, 0.15);\n",
              "    fill: var(--button-hover-fill-color);\n",
              "  }\n",
              "\n",
              "  .colab-df-quickchart-complete:disabled,\n",
              "  .colab-df-quickchart-complete:disabled:hover {\n",
              "    background-color: var(--disabled-bg-color);\n",
              "    fill: var(--disabled-fill-color);\n",
              "    box-shadow: none;\n",
              "  }\n",
              "\n",
              "  .colab-df-spinner {\n",
              "    border: 2px solid var(--fill-color);\n",
              "    border-color: transparent;\n",
              "    border-bottom-color: var(--fill-color);\n",
              "    animation:\n",
              "      spin 1s steps(1) infinite;\n",
              "  }\n",
              "\n",
              "  @keyframes spin {\n",
              "    0% {\n",
              "      border-color: transparent;\n",
              "      border-bottom-color: var(--fill-color);\n",
              "      border-left-color: var(--fill-color);\n",
              "    }\n",
              "    20% {\n",
              "      border-color: transparent;\n",
              "      border-left-color: var(--fill-color);\n",
              "      border-top-color: var(--fill-color);\n",
              "    }\n",
              "    30% {\n",
              "      border-color: transparent;\n",
              "      border-left-color: var(--fill-color);\n",
              "      border-top-color: var(--fill-color);\n",
              "      border-right-color: var(--fill-color);\n",
              "    }\n",
              "    40% {\n",
              "      border-color: transparent;\n",
              "      border-right-color: var(--fill-color);\n",
              "      border-top-color: var(--fill-color);\n",
              "    }\n",
              "    60% {\n",
              "      border-color: transparent;\n",
              "      border-right-color: var(--fill-color);\n",
              "    }\n",
              "    80% {\n",
              "      border-color: transparent;\n",
              "      border-right-color: var(--fill-color);\n",
              "      border-bottom-color: var(--fill-color);\n",
              "    }\n",
              "    90% {\n",
              "      border-color: transparent;\n",
              "      border-bottom-color: var(--fill-color);\n",
              "    }\n",
              "  }\n",
              "</style>\n",
              "\n",
              "  <script>\n",
              "    async function quickchart(key) {\n",
              "      const quickchartButtonEl =\n",
              "        document.querySelector('#' + key + ' button');\n",
              "      quickchartButtonEl.disabled = true;  // To prevent multiple clicks.\n",
              "      quickchartButtonEl.classList.add('colab-df-spinner');\n",
              "      try {\n",
              "        const charts = await google.colab.kernel.invokeFunction(\n",
              "            'suggestCharts', [key], {});\n",
              "      } catch (error) {\n",
              "        console.error('Error during call to suggestCharts:', error);\n",
              "      }\n",
              "      quickchartButtonEl.classList.remove('colab-df-spinner');\n",
              "      quickchartButtonEl.classList.add('colab-df-quickchart-complete');\n",
              "    }\n",
              "    (() => {\n",
              "      let quickchartButtonEl =\n",
              "        document.querySelector('#df-74be8af8-6ae9-4a72-885b-a5a62c0a4408 button');\n",
              "      quickchartButtonEl.style.display =\n",
              "        google.colab.kernel.accessAllowed ? 'block' : 'none';\n",
              "    })();\n",
              "  </script>\n",
              "</div>\n",
              "    </div>\n",
              "  </div>\n"
            ]
          },
          "metadata": {},
          "execution_count": 34
        }
      ],
      "source": [
        "kbd = KBinsDiscretizer(n_bins=2, encode='ordinal', strategy='kmeans')   # K-means Discretization\n",
        "                                                                        # Test to see which is the optimal number of bins\n",
        "df_new7 = df_new6 # make a copy\n",
        "\n",
        "df_new7['Percent_Bleaching_Discretized'] = df_new7['Percent_Bleaching'] # create a new column (just so we can compare) we'll drop it later\n",
        "\n",
        "df_new7['Percent_Bleaching_Discretized'] = kbd.fit_transform(df_new7[['Percent_Bleaching_Discretized']]) # discretize the non-zeros\n",
        "df_new7[['Percent_Bleaching','Percent_Bleaching_Discretized']]"
      ],
      "id": "7IBApwqaiVAG"
    },
    {
      "cell_type": "code",
      "execution_count": null,
      "metadata": {
        "colab": {
          "base_uri": "https://localhost:8080/"
        },
        "id": "-WpWlzjfiVAG",
        "outputId": "30f6caeb-4c05-411c-a64b-281922850ff4"
      },
      "outputs": [
        {
          "output_type": "execute_result",
          "data": {
            "text/plain": [
              "0.0    29865\n",
              "1.0     2810\n",
              "Name: Percent_Bleaching_Discretized, dtype: int64"
            ]
          },
          "metadata": {},
          "execution_count": 35
        }
      ],
      "source": [
        "df_new7['Percent_Bleaching_Discretized'].value_counts()"
      ],
      "id": "-WpWlzjfiVAG"
    },
    {
      "cell_type": "code",
      "execution_count": null,
      "metadata": {
        "colab": {
          "base_uri": "https://localhost:8080/"
        },
        "id": "7OOA-YjaiVAG",
        "outputId": "6bb49003-ae9d-4797-eacd-d77ad3d4325d"
      },
      "outputs": [
        {
          "output_type": "execute_result",
          "data": {
            "text/plain": [
              "array([array([  0.       ,  31.5591283, 100.       ])], dtype=object)"
            ]
          },
          "metadata": {},
          "execution_count": 36
        }
      ],
      "source": [
        "kbd.bin_edges_"
      ],
      "id": "7OOA-YjaiVAG"
    },
    {
      "cell_type": "markdown",
      "metadata": {
        "id": "YShhywnRiVAH"
      },
      "source": [
        "# Undersampling"
      ],
      "id": "YShhywnRiVAH"
    },
    {
      "cell_type": "code",
      "execution_count": null,
      "metadata": {
        "colab": {
          "base_uri": "https://localhost:8080/"
        },
        "id": "bwjT8X6qiVAH",
        "outputId": "f58a02dd-6126-470d-a0d0-3c53c5a1ca7c"
      },
      "outputs": [
        {
          "output_type": "stream",
          "name": "stdout",
          "text": [
            "[(0.0, 2810), (1.0, 2810)]\n"
          ]
        }
      ],
      "source": [
        "rus = RandomUnderSampler(random_state=0, sampling_strategy=\"majority\")\n",
        "\n",
        "df_new10 = df_new7\n",
        "\n",
        "y = df_new10['Percent_Bleaching_Discretized'].to_numpy()\n",
        "X = df_new10.drop(columns=['Sample_ID', 'Percent_Bleaching','Percent_Bleaching_Discretized']).to_numpy()\n",
        "\n",
        "X_resampled, y_resampled = rus.fit_resample(X, y)\n",
        "print(sorted(Counter(y_resampled).items()))"
      ],
      "id": "bwjT8X6qiVAH"
    },
    {
      "cell_type": "markdown",
      "metadata": {
        "id": "eWGg3yg-iVAH"
      },
      "source": [
        "Undersampling Majority to be twice as large as minority"
      ],
      "id": "eWGg3yg-iVAH"
    },
    {
      "cell_type": "code",
      "execution_count": null,
      "metadata": {
        "id": "7m7ACdREiVAH"
      },
      "outputs": [],
      "source": [
        "# rus = RandomUnderSampler(random_state=0, sampling_strategy=0.3)\n",
        "\n",
        "# df_new10 = df_new7\n",
        "\n",
        "# y = df_new10['Percent_Bleaching_Discretized'].to_numpy()\n",
        "# X = df_new10.drop(columns=['Sample_ID', 'Percent_Bleaching','Percent_Bleaching_Discretized']).to_numpy()\n",
        "\n",
        "# X_undersampled, y_undersampled = rus.fit_resample(X, y)\n",
        "# print(sorted(Counter(y_resampled).items()))"
      ],
      "id": "7m7ACdREiVAH"
    },
    {
      "cell_type": "markdown",
      "metadata": {
        "id": "j9YZU5X6iVAH"
      },
      "source": [
        "Oversampling Minority to be same as majority"
      ],
      "id": "j9YZU5X6iVAH"
    },
    {
      "cell_type": "code",
      "execution_count": null,
      "metadata": {
        "id": "HYOz8aTOiVAH"
      },
      "outputs": [],
      "source": [
        "# smote_enn = SMOTEENN(random_state=0, sampling_strategy=\"all\")\n",
        "# X_resampled, y_resampled = smote_enn.fit_resample(X_undersampled, y_undersampled)\n",
        "# print(sorted(Counter(y_resampled).items()))"
      ],
      "id": "HYOz8aTOiVAH"
    },
    {
      "cell_type": "code",
      "execution_count": null,
      "metadata": {
        "colab": {
          "base_uri": "https://localhost:8080/"
        },
        "id": "Wym6YsFLiVAI",
        "outputId": "7da7d773-caa1-43d9-ea68-11833979621e"
      },
      "outputs": [
        {
          "output_type": "execute_result",
          "data": {
            "text/plain": [
              "(5620, 152)"
            ]
          },
          "metadata": {},
          "execution_count": 40
        }
      ],
      "source": [
        "X_resampled.shape"
      ],
      "id": "Wym6YsFLiVAI"
    },
    {
      "cell_type": "code",
      "execution_count": null,
      "metadata": {
        "colab": {
          "base_uri": "https://localhost:8080/"
        },
        "id": "c96RAGZ6iVAI",
        "outputId": "534dd57f-eea7-4450-bf6e-3a75e2aae6ae"
      },
      "outputs": [
        {
          "output_type": "execute_result",
          "data": {
            "text/plain": [
              "(5620,)"
            ]
          },
          "metadata": {},
          "execution_count": 41
        }
      ],
      "source": [
        "y_resampled.shape"
      ],
      "id": "c96RAGZ6iVAI"
    },
    {
      "cell_type": "markdown",
      "metadata": {
        "id": "2mUA25V5iVAI"
      },
      "source": [
        "# Combination of Under and Over Sampling"
      ],
      "id": "2mUA25V5iVAI"
    },
    {
      "cell_type": "code",
      "execution_count": null,
      "metadata": {
        "id": "m6DQbOpeiVAI"
      },
      "outputs": [],
      "source": [
        "#smote_enn = SMOTEENN(random_state=0, sampling_strategy=\"all\")\n",
        "#df_new10 = df_new7\n",
        "#y = df_new10['Percent_Bleaching_Discretized'].to_numpy()\n",
        "#X = df_new10.drop(columns=['Sample_ID', 'Percent_Bleaching','Percent_Bleaching_Discretized']).to_numpy()\n",
        "#X_resampled, y_resampled = smote_enn.fit_resample(X, y)\n",
        "#print(sorted(Counter(y_resampled).items()))"
      ],
      "id": "m6DQbOpeiVAI"
    },
    {
      "cell_type": "code",
      "execution_count": null,
      "metadata": {
        "id": "UxO5vjiaiVAI"
      },
      "outputs": [],
      "source": [
        "#smote_tomek = SMOTETomek(random_state=0)\n",
        "#df_new10 = df_new7\n",
        "#y = df_new10['Percent_Bleaching_Discretized'].to_numpy()\n",
        "#X = df_new10.drop(columns=['Sample_ID', 'Percent_Bleaching','Percent_Bleaching_Discretized']).to_numpy()\n",
        "#X_resampled, y_resampled = smote_tomek.fit_resample(X, y)\n",
        "#print(sorted(Counter(y_resampled).items()))"
      ],
      "id": "UxO5vjiaiVAI"
    },
    {
      "cell_type": "markdown",
      "metadata": {
        "id": "baakaMj8iVAJ"
      },
      "source": [
        "# Decision Tree after undersampling"
      ],
      "id": "baakaMj8iVAJ"
    },
    {
      "cell_type": "code",
      "execution_count": null,
      "metadata": {
        "colab": {
          "base_uri": "https://localhost:8080/"
        },
        "id": "jZEn7BCAiVAJ",
        "outputId": "ce67ef19-a85b-472c-fc1c-0afeb93d92fc"
      },
      "outputs": [
        {
          "output_type": "stream",
          "name": "stdout",
          "text": [
            "0.9959964412811388\n",
            "0.8594306049822064\n"
          ]
        }
      ],
      "source": [
        "X_train, X_test, y_train, y_test = train_test_split(X_resampled, y_resampled, test_size=0.20, random_state=42)\n",
        "\n",
        "coral_DT = DecisionTreeClassifier()\n",
        "coral_DT.fit(X_train, y_train)\n",
        "print(coral_DT.score(X_train, y_train))\n",
        "print(coral_DT.score(X_test, y_test))"
      ],
      "id": "jZEn7BCAiVAJ"
    },
    {
      "cell_type": "code",
      "execution_count": null,
      "metadata": {
        "id": "aDhmvuOSiVAJ"
      },
      "outputs": [],
      "source": [
        "# train_acc = []\n",
        "# test_acc = []\n",
        "# node_count = []\n",
        "\n",
        "# df_new10 = df_new7\n",
        "# y = df_new10['Percent_Bleaching_Discretized'].to_numpy()\n",
        "# X = df_new10.drop(columns=['Sample_ID', 'Percent_Bleaching','Percent_Bleaching_Discretized']).to_numpy()\n",
        "\n",
        "# for n in [0.1, 0.2, 0.3, 0.4, 0.5, 0.6, 0.7, 0.8, 0.9]:\n",
        "#     rus = RandomUnderSampler(random_state=0, sampling_strategy=n)\n",
        "#     X_undersampled, y_undersampled = rus.fit_resample(X, y)\n",
        "#     smote_enn = SMOTEENN(random_state=0, sampling_strategy=\"all\")\n",
        "#     X_resampled, y_resampled = smote_enn.fit_resample(X_undersampled, y_undersampled)\n",
        "#     X_train, X_test, y_train, y_test = train_test_split(X_resampled, y_resampled, test_size=0.20, random_state=42)\n",
        "#     coral_DT = DecisionTreeClassifier()\n",
        "#     coral_DT.fit(X_train, y_train)\n",
        "#     train_acc.append(coralDT.score(X_train, y_train)) #retrieve the training accuracy from transforming\n",
        "#     test_acc.append(coralDT.score(X_test, y_test))  #retrieve the testing accuracy from transforming\n",
        "#     node_count.append(coralDT.tree_.node_count) #retrieve the nodes used\n",
        "\n",
        "# plt.plot(node_count, train_acc, label='Training Accuracy')\n",
        "# plt.plot(node_count, test_acc, label='Testing Accuracy')\n",
        "# plt.xlabel('Number of Nodes')\n",
        "# plt.ylabel('Average Accuracy')\n",
        "# plt.title('Nodes vs. Accuracy')\n",
        "# plt.legend()\n",
        "# plt.show()\n"
      ],
      "id": "aDhmvuOSiVAJ"
    },
    {
      "cell_type": "markdown",
      "metadata": {
        "id": "w4gZQuT6iVAJ"
      },
      "source": [
        "### Feature Selection"
      ],
      "id": "w4gZQuT6iVAJ"
    },
    {
      "cell_type": "code",
      "execution_count": null,
      "metadata": {
        "colab": {
          "base_uri": "https://localhost:8080/"
        },
        "id": "wTCd4UtWiVAJ",
        "outputId": "58d4b83c-332c-4090-ba81-4d5380ccb9cd"
      },
      "outputs": [
        {
          "output_type": "stream",
          "name": "stderr",
          "text": [
            "/usr/local/lib/python3.10/dist-packages/sklearn/feature_selection/_univariate_selection.py:112: UserWarning: Features [ 46  50  58  63  75  84  87 107 127 139 143] are constant.\n",
            "  warnings.warn(\"Features %s are constant.\" % constant_features_idx, UserWarning)\n",
            "/usr/local/lib/python3.10/dist-packages/sklearn/feature_selection/_univariate_selection.py:113: RuntimeWarning: invalid value encountered in divide\n",
            "  f = msb / msw\n"
          ]
        }
      ],
      "source": [
        "X_new_FS = SelectPercentile(f_classif, percentile = 50).fit_transform(X_resampled, y_resampled)"
      ],
      "id": "wTCd4UtWiVAJ"
    },
    {
      "cell_type": "code",
      "execution_count": null,
      "metadata": {
        "id": "qNVsU66miVAJ"
      },
      "outputs": [],
      "source": [
        "# df_new8 = df_new7\n",
        "# y = df_new8['Percent_Bleaching_Discretized'].to_numpy()\n",
        "# X = df_new8.drop(columns=['Sample_ID', 'Percent_Bleaching','Percent_Bleaching_Discretized']).to_numpy()\n",
        "# X_new = SelectPercentile(f_classif, percentile = 50).fit_transform(X, y)"
      ],
      "id": "qNVsU66miVAJ"
    },
    {
      "cell_type": "code",
      "execution_count": null,
      "metadata": {
        "colab": {
          "base_uri": "https://localhost:8080/"
        },
        "id": "57Kfan4piVAK",
        "outputId": "b1c1efd1-6eb6-43c3-a640-45b30c1b92a1"
      },
      "outputs": [
        {
          "output_type": "execute_result",
          "data": {
            "text/plain": [
              "(5620, 76)"
            ]
          },
          "metadata": {},
          "execution_count": 48
        }
      ],
      "source": [
        "X_new_FS.shape"
      ],
      "id": "57Kfan4piVAK"
    },
    {
      "cell_type": "markdown",
      "metadata": {
        "id": "gjM-5Kp_iVAK"
      },
      "source": [
        "# Scaling"
      ],
      "id": "gjM-5Kp_iVAK"
    },
    {
      "cell_type": "code",
      "execution_count": null,
      "metadata": {
        "id": "LzlU1ySfiVAK"
      },
      "outputs": [],
      "source": [
        "#scaler = preprocessing.MinMaxScaler ()\n",
        "#X_new_rescaled = scaler.fit_transform (X_new)\n",
        "#print(X_new_rescaled)"
      ],
      "id": "LzlU1ySfiVAK"
    },
    {
      "cell_type": "code",
      "execution_count": null,
      "metadata": {
        "colab": {
          "base_uri": "https://localhost:8080/"
        },
        "id": "sEiUjf_9iVAK",
        "outputId": "b9e2c044-4a01-49f8-8094-5958773c0aa1"
      },
      "outputs": [
        {
          "output_type": "stream",
          "name": "stdout",
          "text": [
            "[[ 1.21029671  0.37613537 -0.61724505 ... -1.10952425 -0.05343317\n",
            "   3.31791305]\n",
            " [ 1.00081081 -0.76585311  0.32507541 ...  0.90128719 -0.05343317\n",
            "  -0.30139428]\n",
            " [ 1.21029671  0.37613537 -0.61724505 ... -1.10952425 -0.05343317\n",
            "   3.31791305]\n",
            " ...\n",
            " [-1.65267725  0.50636213 -2.03072574 ... -1.10952425 -0.05343317\n",
            "   3.31791305]\n",
            " [ 0.93098217 -0.77587056  0.67844558 ...  0.90128719 -0.05343317\n",
            "  -0.30139428]\n",
            " [ 0.93098217 -0.76585311  1.14960581 ...  0.90128719 -0.05343317\n",
            "  -0.30139428]]\n"
          ]
        }
      ],
      "source": [
        "# This one is slightly better than MinMaxScaler\n",
        "from sklearn.preprocessing import StandardScaler\n",
        "\n",
        "scaler = StandardScaler()\n",
        "X_new_rescaled = scaler.fit_transform (X_new_FS)\n",
        "print(X_new_rescaled)"
      ],
      "id": "sEiUjf_9iVAK"
    },
    {
      "cell_type": "code",
      "execution_count": null,
      "metadata": {
        "colab": {
          "base_uri": "https://localhost:8080/"
        },
        "id": "qkM_4c1qiVAK",
        "outputId": "f4145f91-28d0-4b74-9eb5-0f540d54dbe7"
      },
      "outputs": [
        {
          "output_type": "stream",
          "name": "stdout",
          "text": [
            "0.989991103202847\n",
            "0.8638790035587188\n"
          ]
        }
      ],
      "source": [
        "X_train, X_test, y_train, y_test = train_test_split(X_new_rescaled, y_resampled, test_size=0.20, random_state=42)\n",
        "\n",
        "coral_DT = DecisionTreeClassifier()\n",
        "coral_DT.fit(X_train, y_train)\n",
        "print(coral_DT.score(X_train, y_train))\n",
        "print(coral_DT.score(X_test, y_test))"
      ],
      "id": "qkM_4c1qiVAK"
    },
    {
      "cell_type": "markdown",
      "metadata": {
        "id": "EPHrqQL5iVAK"
      },
      "source": [
        "## PCA (Principle Component Analysis)"
      ],
      "id": "EPHrqQL5iVAK"
    },
    {
      "cell_type": "code",
      "execution_count": null,
      "metadata": {
        "id": "ajzjK3cUiVAL"
      },
      "outputs": [],
      "source": [
        "# from sklearn.decomposition import PCA\n",
        "\n",
        "# for n in range(2, X_new_rescaled.shape[1]):\n",
        "#     pca = PCA(n_components=n)\n",
        "#     pca.fit(X_new_rescaled)\n",
        "#     #print(pca.explained_variance_ratio_)\n",
        "#     #print(pca.singular_values_)\n",
        "\n",
        "# plt.plot(node_count, train_acc, label='Training Accuracy')\n",
        "# plt.plot(node_count, test_acc, label='Testing Accuracy')\n",
        "# plt.xlabel('Number of Nodes')\n",
        "# plt.ylabel('Average Accuracy')\n",
        "# plt.title('Nodes vs. Accuracy')\n",
        "# plt.legend()\n",
        "# plt.show()\n",
        "# #print(pca.explained_variance_ratio_.sum())"
      ],
      "id": "ajzjK3cUiVAL"
    },
    {
      "cell_type": "code",
      "execution_count": null,
      "metadata": {
        "id": "tz2E_7eJiVAL"
      },
      "outputs": [],
      "source": [
        "# pca = PCA()\n",
        "# pca.fit(X_new_rescaled)\n",
        "\n",
        "# # Check the explained variance ratio\n",
        "# explained_variance_ratio = pca.explained_variance_ratio_\n",
        "# print(\"Explained Variance Ratio:\", explained_variance_ratio)\n",
        "\n",
        "# # Determine the number of components to retain\n",
        "# # For example, retain 95% of the variance\n",
        "# cumulative_explained_variance = explained_variance_ratio.cumsum()\n",
        "# num_components = (cumulative_explained_variance < 0.95).sum() + 1\n",
        "\n",
        "# # Fit the PCA model with the chosen number of components\n",
        "# pca = PCA(n_components=num_components)\n",
        "# X_pca = pca.fit_transform(X_new_rescaled)\n",
        "\n",
        "# # X_pca now contains the transformed features\n"
      ],
      "id": "tz2E_7eJiVAL"
    },
    {
      "cell_type": "markdown",
      "id": "ce850751",
      "metadata": {
        "id": "ce850751"
      },
      "source": [
        "# End of Preprocessing"
      ]
    },
    {
      "cell_type": "markdown",
      "id": "412249fb",
      "metadata": {
        "id": "412249fb"
      },
      "source": [
        "### II. Machine Learning Methods\n",
        "#### a. Decision Tree Classifier"
      ]
    },
    {
      "cell_type": "markdown",
      "metadata": {
        "id": "jidSqnXLiVAO"
      },
      "source": [
        "# KNN"
      ],
      "id": "jidSqnXLiVAO"
    },
    {
      "cell_type": "code",
      "source": [
        "from sklearn.neighbors import KNeighborsClassifier\n",
        "from sklearn.model_selection import GridSearchCV\n",
        "from sklearn.metrics import classification_report, accuracy_score, precision_score, f1_score, recall_score, roc_auc_score, confusion_matrix"
      ],
      "metadata": {
        "id": "s_e6nQos0j0C"
      },
      "id": "s_e6nQos0j0C",
      "execution_count": null,
      "outputs": []
    },
    {
      "cell_type": "code",
      "execution_count": null,
      "metadata": {
        "id": "CYQ7ongHiVAO"
      },
      "outputs": [],
      "source": [
        "X_train, X_test, y_train, y_test = train_test_split(X_new_rescaled, y_resampled, test_size=0.20, random_state=42)"
      ],
      "id": "CYQ7ongHiVAO"
    },
    {
      "cell_type": "code",
      "source": [
        "# KNN with default parameters\n",
        "knn_default = KNeighborsClassifier()\n",
        "knn_default.fit(X_train, y_train)\n",
        "print(\"Default KNN Training Accuracy:\", knn_default.score(X_train, y_train))\n",
        "print(\"Default KNN Testing Accuracy:\", knn_default.score(X_test, y_test))"
      ],
      "metadata": {
        "colab": {
          "base_uri": "https://localhost:8080/"
        },
        "id": "jxwoM7kyvl1F",
        "outputId": "917a9496-4fb1-43d1-db27-1d3ea32f8a3e"
      },
      "id": "jxwoM7kyvl1F",
      "execution_count": null,
      "outputs": [
        {
          "output_type": "stream",
          "name": "stdout",
          "text": [
            "Default KNN Training Accuracy: 0.9052491103202847\n",
            "Default KNN Testing Accuracy: 0.8558718861209964\n"
          ]
        }
      ]
    },
    {
      "cell_type": "code",
      "source": [
        "# KNN with specified parameters\n",
        "knn_custom = KNeighborsClassifier(n_neighbors=3, weights='uniform', algorithm='auto', leaf_size=20,)\n",
        "knn_custom.fit(X_train, y_train)\n",
        "print(\"Custom KNN Training Accuracy:\", knn_custom.score(X_train, y_train))\n",
        "print(\"Custom KNN Testing Accuracy:\", knn_custom.score(X_test, y_test))"
      ],
      "metadata": {
        "colab": {
          "base_uri": "https://localhost:8080/"
        },
        "id": "0--nUx0UxW5I",
        "outputId": "274347af-07cd-491a-ce2f-7cd07f73cdf8"
      },
      "id": "0--nUx0UxW5I",
      "execution_count": null,
      "outputs": [
        {
          "output_type": "stream",
          "name": "stdout",
          "text": [
            "Custom KNN Training Accuracy: 0.9301601423487544\n",
            "Custom KNN Testing Accuracy: 0.8434163701067615\n"
          ]
        }
      ]
    },
    {
      "cell_type": "code",
      "source": [
        "# Hyperparameter tuning\n",
        "param_grid_knn = {\n",
        "    'n_neighbors': list(range(1, 21)),\n",
        "    'weights': ['uniform', 'distance'],\n",
        "    'metric': ['euclidean', 'manhattan']\n",
        "}"
      ],
      "metadata": {
        "id": "ODYU16yezly7"
      },
      "id": "ODYU16yezly7",
      "execution_count": null,
      "outputs": []
    },
    {
      "cell_type": "code",
      "source": [
        "\n",
        "grid_search_knn = GridSearchCV(KNeighborsClassifier(), param_grid_knn, cv=5)\n",
        "grid_search_knn.fit(X_train, y_train)"
      ],
      "metadata": {
        "colab": {
          "base_uri": "https://localhost:8080/",
          "height": 118
        },
        "id": "8rpPOfP5z2u5",
        "outputId": "bf8bd1ef-6bec-4b5f-8b13-7c08eb33a1a2"
      },
      "id": "8rpPOfP5z2u5",
      "execution_count": null,
      "outputs": [
        {
          "output_type": "execute_result",
          "data": {
            "text/plain": [
              "GridSearchCV(cv=5, estimator=KNeighborsClassifier(),\n",
              "             param_grid={'metric': ['euclidean', 'manhattan'],\n",
              "                         'n_neighbors': [1, 2, 3, 4, 5, 6, 7, 8, 9, 10, 11, 12,\n",
              "                                         13, 14, 15, 16, 17, 18, 19, 20],\n",
              "                         'weights': ['uniform', 'distance']})"
            ],
            "text/html": [
              "<style>#sk-container-id-1 {color: black;background-color: white;}#sk-container-id-1 pre{padding: 0;}#sk-container-id-1 div.sk-toggleable {background-color: white;}#sk-container-id-1 label.sk-toggleable__label {cursor: pointer;display: block;width: 100%;margin-bottom: 0;padding: 0.3em;box-sizing: border-box;text-align: center;}#sk-container-id-1 label.sk-toggleable__label-arrow:before {content: \"▸\";float: left;margin-right: 0.25em;color: #696969;}#sk-container-id-1 label.sk-toggleable__label-arrow:hover:before {color: black;}#sk-container-id-1 div.sk-estimator:hover label.sk-toggleable__label-arrow:before {color: black;}#sk-container-id-1 div.sk-toggleable__content {max-height: 0;max-width: 0;overflow: hidden;text-align: left;background-color: #f0f8ff;}#sk-container-id-1 div.sk-toggleable__content pre {margin: 0.2em;color: black;border-radius: 0.25em;background-color: #f0f8ff;}#sk-container-id-1 input.sk-toggleable__control:checked~div.sk-toggleable__content {max-height: 200px;max-width: 100%;overflow: auto;}#sk-container-id-1 input.sk-toggleable__control:checked~label.sk-toggleable__label-arrow:before {content: \"▾\";}#sk-container-id-1 div.sk-estimator input.sk-toggleable__control:checked~label.sk-toggleable__label {background-color: #d4ebff;}#sk-container-id-1 div.sk-label input.sk-toggleable__control:checked~label.sk-toggleable__label {background-color: #d4ebff;}#sk-container-id-1 input.sk-hidden--visually {border: 0;clip: rect(1px 1px 1px 1px);clip: rect(1px, 1px, 1px, 1px);height: 1px;margin: -1px;overflow: hidden;padding: 0;position: absolute;width: 1px;}#sk-container-id-1 div.sk-estimator {font-family: monospace;background-color: #f0f8ff;border: 1px dotted black;border-radius: 0.25em;box-sizing: border-box;margin-bottom: 0.5em;}#sk-container-id-1 div.sk-estimator:hover {background-color: #d4ebff;}#sk-container-id-1 div.sk-parallel-item::after {content: \"\";width: 100%;border-bottom: 1px solid gray;flex-grow: 1;}#sk-container-id-1 div.sk-label:hover label.sk-toggleable__label {background-color: #d4ebff;}#sk-container-id-1 div.sk-serial::before {content: \"\";position: absolute;border-left: 1px solid gray;box-sizing: border-box;top: 0;bottom: 0;left: 50%;z-index: 0;}#sk-container-id-1 div.sk-serial {display: flex;flex-direction: column;align-items: center;background-color: white;padding-right: 0.2em;padding-left: 0.2em;position: relative;}#sk-container-id-1 div.sk-item {position: relative;z-index: 1;}#sk-container-id-1 div.sk-parallel {display: flex;align-items: stretch;justify-content: center;background-color: white;position: relative;}#sk-container-id-1 div.sk-item::before, #sk-container-id-1 div.sk-parallel-item::before {content: \"\";position: absolute;border-left: 1px solid gray;box-sizing: border-box;top: 0;bottom: 0;left: 50%;z-index: -1;}#sk-container-id-1 div.sk-parallel-item {display: flex;flex-direction: column;z-index: 1;position: relative;background-color: white;}#sk-container-id-1 div.sk-parallel-item:first-child::after {align-self: flex-end;width: 50%;}#sk-container-id-1 div.sk-parallel-item:last-child::after {align-self: flex-start;width: 50%;}#sk-container-id-1 div.sk-parallel-item:only-child::after {width: 0;}#sk-container-id-1 div.sk-dashed-wrapped {border: 1px dashed gray;margin: 0 0.4em 0.5em 0.4em;box-sizing: border-box;padding-bottom: 0.4em;background-color: white;}#sk-container-id-1 div.sk-label label {font-family: monospace;font-weight: bold;display: inline-block;line-height: 1.2em;}#sk-container-id-1 div.sk-label-container {text-align: center;}#sk-container-id-1 div.sk-container {/* jupyter's `normalize.less` sets `[hidden] { display: none; }` but bootstrap.min.css set `[hidden] { display: none !important; }` so we also need the `!important` here to be able to override the default hidden behavior on the sphinx rendered scikit-learn.org. See: https://github.com/scikit-learn/scikit-learn/issues/21755 */display: inline-block !important;position: relative;}#sk-container-id-1 div.sk-text-repr-fallback {display: none;}</style><div id=\"sk-container-id-1\" class=\"sk-top-container\"><div class=\"sk-text-repr-fallback\"><pre>GridSearchCV(cv=5, estimator=KNeighborsClassifier(),\n",
              "             param_grid={&#x27;metric&#x27;: [&#x27;euclidean&#x27;, &#x27;manhattan&#x27;],\n",
              "                         &#x27;n_neighbors&#x27;: [1, 2, 3, 4, 5, 6, 7, 8, 9, 10, 11, 12,\n",
              "                                         13, 14, 15, 16, 17, 18, 19, 20],\n",
              "                         &#x27;weights&#x27;: [&#x27;uniform&#x27;, &#x27;distance&#x27;]})</pre><b>In a Jupyter environment, please rerun this cell to show the HTML representation or trust the notebook. <br />On GitHub, the HTML representation is unable to render, please try loading this page with nbviewer.org.</b></div><div class=\"sk-container\" hidden><div class=\"sk-item sk-dashed-wrapped\"><div class=\"sk-label-container\"><div class=\"sk-label sk-toggleable\"><input class=\"sk-toggleable__control sk-hidden--visually\" id=\"sk-estimator-id-1\" type=\"checkbox\" ><label for=\"sk-estimator-id-1\" class=\"sk-toggleable__label sk-toggleable__label-arrow\">GridSearchCV</label><div class=\"sk-toggleable__content\"><pre>GridSearchCV(cv=5, estimator=KNeighborsClassifier(),\n",
              "             param_grid={&#x27;metric&#x27;: [&#x27;euclidean&#x27;, &#x27;manhattan&#x27;],\n",
              "                         &#x27;n_neighbors&#x27;: [1, 2, 3, 4, 5, 6, 7, 8, 9, 10, 11, 12,\n",
              "                                         13, 14, 15, 16, 17, 18, 19, 20],\n",
              "                         &#x27;weights&#x27;: [&#x27;uniform&#x27;, &#x27;distance&#x27;]})</pre></div></div></div><div class=\"sk-parallel\"><div class=\"sk-parallel-item\"><div class=\"sk-item\"><div class=\"sk-label-container\"><div class=\"sk-label sk-toggleable\"><input class=\"sk-toggleable__control sk-hidden--visually\" id=\"sk-estimator-id-2\" type=\"checkbox\" ><label for=\"sk-estimator-id-2\" class=\"sk-toggleable__label sk-toggleable__label-arrow\">estimator: KNeighborsClassifier</label><div class=\"sk-toggleable__content\"><pre>KNeighborsClassifier()</pre></div></div></div><div class=\"sk-serial\"><div class=\"sk-item\"><div class=\"sk-estimator sk-toggleable\"><input class=\"sk-toggleable__control sk-hidden--visually\" id=\"sk-estimator-id-3\" type=\"checkbox\" ><label for=\"sk-estimator-id-3\" class=\"sk-toggleable__label sk-toggleable__label-arrow\">KNeighborsClassifier</label><div class=\"sk-toggleable__content\"><pre>KNeighborsClassifier()</pre></div></div></div></div></div></div></div></div></div></div>"
            ]
          },
          "metadata": {},
          "execution_count": 59
        }
      ]
    },
    {
      "cell_type": "code",
      "source": [
        "best_knn_model = grid_search_knn.best_estimator_\n",
        "best_knn_params = grid_search_knn.best_params_"
      ],
      "metadata": {
        "id": "qEaymJ4uo7Vy"
      },
      "id": "qEaymJ4uo7Vy",
      "execution_count": null,
      "outputs": []
    },
    {
      "cell_type": "code",
      "source": [
        "print(\"Best Hyperparameters for KNN:\", best_knn_params)"
      ],
      "metadata": {
        "colab": {
          "base_uri": "https://localhost:8080/"
        },
        "id": "HKNa7VEw1J4R",
        "outputId": "e41faa12-3c89-4423-c812-572fb17022d6"
      },
      "id": "HKNa7VEw1J4R",
      "execution_count": null,
      "outputs": [
        {
          "output_type": "stream",
          "name": "stdout",
          "text": [
            "Best Hyperparameters for KNN: {'metric': 'manhattan', 'n_neighbors': 10, 'weights': 'distance'}\n"
          ]
        }
      ]
    },
    {
      "cell_type": "code",
      "source": [
        "# Evaluating KNN model with the best hyperparameters on testing set\n",
        "knn_predictions = best_knn_model.predict(X_test)"
      ],
      "metadata": {
        "id": "5aooqCqFot8d"
      },
      "id": "5aooqCqFot8d",
      "execution_count": null,
      "outputs": []
    },
    {
      "cell_type": "code",
      "source": [
        "# Accuracy vs the Number of Neighbors\n",
        "neighbors_range = list(range(1, 21))\n",
        "train_acc = []\n",
        "test_acc = []\n",
        "\n",
        "for n in neighbors_range:\n",
        "    knn_model = KNeighborsClassifier(n_neighbors=n)\n",
        "    knn_model.fit(X_train, y_train)\n",
        "    train_acc.append(knn_model.score(X_train, y_train))\n",
        "    test_acc.append(knn_model.score(X_test, y_test))"
      ],
      "metadata": {
        "id": "4GaU7tKz10AF"
      },
      "id": "4GaU7tKz10AF",
      "execution_count": null,
      "outputs": []
    },
    {
      "cell_type": "code",
      "source": [
        "plt.plot(neighbors_range, train_acc, label='Training Accuracy')\n",
        "plt.plot(neighbors_range, test_acc, label='Testing Accuracy')\n",
        "plt.xlabel('Number of Neighbors')\n",
        "plt.ylabel('Accuracy')\n",
        "plt.title('KNN - Accuracy vs Number of Neighbors')\n",
        "plt.legend()\n",
        "plt.show()"
      ],
      "metadata": {
        "colab": {
          "base_uri": "https://localhost:8080/",
          "height": 472
        },
        "id": "R5GEd5Pc1_P9",
        "outputId": "00a1998a-6361-482a-c5a1-6cb6055ddb4d"
      },
      "id": "R5GEd5Pc1_P9",
      "execution_count": null,
      "outputs": [
        {
          "output_type": "display_data",
          "data": {
            "text/plain": [
              "<Figure size 640x480 with 1 Axes>"
            ],
            "image/png": "[encoded data removed]"
          },
          "metadata": {}
        }
      ]
    },
    {
      "cell_type": "code",
      "source": [
        "# Classification Report (summary of main classification performance)\n",
        "print(\"Classification Report:\")\n",
        "print(classification_report(y_test, knn_predictions, target_names=['Class 0', 'Class 1']))"
      ],
      "metadata": {
        "colab": {
          "base_uri": "https://localhost:8080/"
        },
        "id": "-C69E8KoqTpv",
        "outputId": "5e0e18fa-7a6b-41f3-9ad9-8a17cfeb1da9"
      },
      "id": "-C69E8KoqTpv",
      "execution_count": null,
      "outputs": [
        {
          "output_type": "stream",
          "name": "stdout",
          "text": [
            "Classification Report:\n",
            "              precision    recall  f1-score   support\n",
            "\n",
            "     Class 0       0.92      0.86      0.89       592\n",
            "     Class 1       0.86      0.91      0.88       532\n",
            "\n",
            "    accuracy                           0.89      1124\n",
            "   macro avg       0.89      0.89      0.89      1124\n",
            "weighted avg       0.89      0.89      0.89      1124\n",
            "\n"
          ]
        }
      ]
    },
    {
      "cell_type": "code",
      "source": [
        "# Accuracy\n",
        "accuracy = accuracy_score(y_test, knn_predictions)\n",
        "print(\"Accuracy Score:\", accuracy)"
      ],
      "metadata": {
        "colab": {
          "base_uri": "https://localhost:8080/"
        },
        "id": "7Lo5wc3KsyUA",
        "outputId": "9ce7379a-7d38-46ba-f8cf-a5547069e902"
      },
      "id": "7Lo5wc3KsyUA",
      "execution_count": null,
      "outputs": [
        {
          "output_type": "stream",
          "name": "stdout",
          "text": [
            "Accuracy Score: 0.8870106761565836\n"
          ]
        }
      ]
    },
    {
      "cell_type": "code",
      "source": [
        "# Precision\n",
        "precision = precision_score(y_test, knn_predictions)\n",
        "print(\"Precision Score:\", precision)"
      ],
      "metadata": {
        "colab": {
          "base_uri": "https://localhost:8080/"
        },
        "id": "Oq2JGUBHM7tV",
        "outputId": "814681a4-7812-413a-ba15-d41f3dec9b3f"
      },
      "id": "Oq2JGUBHM7tV",
      "execution_count": null,
      "outputs": [
        {
          "output_type": "stream",
          "name": "stdout",
          "text": [
            "Precision Score: 0.8584070796460177\n"
          ]
        }
      ]
    },
    {
      "cell_type": "code",
      "source": [
        "# F1 Score\n",
        "f1 = f1_score(y_test, knn_predictions, average='weighted')\n",
        "print(\"F1 Score:\", f1)"
      ],
      "metadata": {
        "colab": {
          "base_uri": "https://localhost:8080/"
        },
        "id": "1ONpjl-Ws5xY",
        "outputId": "a075f0b8-2afe-480e-c3fe-7deeffaa5c84"
      },
      "id": "1ONpjl-Ws5xY",
      "execution_count": null,
      "outputs": [
        {
          "output_type": "stream",
          "name": "stdout",
          "text": [
            "F1 Score: 0.8870904082491989\n"
          ]
        }
      ]
    },
    {
      "cell_type": "code",
      "source": [
        "# Recall Per Class\n",
        "recall = recall_score(y_test, knn_predictions)\n",
        "print(\"Recall Per Class:\", recall)"
      ],
      "metadata": {
        "colab": {
          "base_uri": "https://localhost:8080/"
        },
        "id": "l0lwxI1otBjP",
        "outputId": "7df829aa-ccf6-4af9-dff7-437e6870cd06"
      },
      "id": "l0lwxI1otBjP",
      "execution_count": null,
      "outputs": [
        {
          "output_type": "stream",
          "name": "stdout",
          "text": [
            "Recall Per Class: 0.9116541353383458\n"
          ]
        }
      ]
    },
    {
      "cell_type": "code",
      "source": [
        "# ROC-AUC Score\n",
        "roc_auc = roc_auc_score(y_test, knn_predictions)\n",
        "print(\"ROC-AUC Score:\", roc_auc)"
      ],
      "metadata": {
        "colab": {
          "base_uri": "https://localhost:8080/"
        },
        "id": "oAH-V0TEtFQD",
        "outputId": "7ce5b597-3b50-473e-fe46-34bb3efe1404"
      },
      "id": "oAH-V0TEtFQD",
      "execution_count": null,
      "outputs": [
        {
          "output_type": "stream",
          "name": "stdout",
          "text": [
            "ROC-AUC Score: 0.8882595001016054\n"
          ]
        }
      ]
    },
    {
      "cell_type": "code",
      "source": [
        "# Confusion Matrix\n",
        "conf_matrix = confusion_matrix(y_test, knn_predictions)\n",
        "print(\"Confusion Matrix:\\n\", conf_matrix)\n",
        "\n",
        "plt.figure(figsize=(8, 6))\n",
        "sns.heatmap(conf_matrix, annot=True, fmt='d', cmap='Blues', cbar=False,\n",
        "            xticklabels=['Predicted 0', 'Predicted 1'],\n",
        "            yticklabels=['Actual 0', 'Actual 1'])\n",
        "plt.xlabel('Predicted label')\n",
        "plt.ylabel('True label')\n",
        "plt.title('Confusion Matrix')\n",
        "plt.show()"
      ],
      "metadata": {
        "colab": {
          "base_uri": "https://localhost:8080/",
          "height": 618
        },
        "id": "gIaXaT6utIKX",
        "outputId": "795dfad2-1e21-48ef-85cb-a0eb126061e1"
      },
      "id": "gIaXaT6utIKX",
      "execution_count": null,
      "outputs": [
        {
          "output_type": "stream",
          "name": "stdout",
          "text": [
            "Confusion Matrix:\n",
            " [[512  80]\n",
            " [ 47 485]]\n"
          ]
        },
        {
          "output_type": "display_data",
          "data": {
            "text/plain": [
              "<Figure size 800x600 with 1 Axes>"
            ],
            "image/png": "[encoded data removed]"
          },
          "metadata": {}
        }
      ]
    },
    {
      "cell_type": "code",
      "source": [
        "# ROC Curve\n",
        "if len(np.unique(y_test)) == 2:\n",
        "    from sklearn.metrics import roc_curve, auc\n",
        "\n",
        "    fpr, tpr, _ = roc_curve(y_test, knn_predictions)\n",
        "    roc_auc = auc(fpr, tpr)\n",
        "\n",
        "    plt.figure(figsize=(8, 6))\n",
        "    plt.plot(fpr, tpr, label='ROC Curve (AUC = {:.2f})'.format(roc_auc))\n",
        "    plt.plot([0, 1], [0, 1], linestyle='--', color='gray', label='Random')\n",
        "    plt.xlabel('False Positive Rate')\n",
        "    plt.ylabel('True Positive Rate')\n",
        "    plt.title('Receiver Operating Characteristic (ROC) Curve')\n",
        "    plt.legend()\n",
        "    plt.show()"
      ],
      "metadata": {
        "colab": {
          "base_uri": "https://localhost:8080/",
          "height": 564
        },
        "id": "ferZxD8HtPKx",
        "outputId": "4e9cba3b-511a-4716-d8ec-076579e5e258"
      },
      "id": "ferZxD8HtPKx",
      "execution_count": 84,
      "outputs": [
        {
          "output_type": "display_data",
          "data": {
            "text/plain": [
              "<Figure size 800x600 with 1 Axes>"
            ],
            "image/png": "[encoded data removed]"
          },
          "metadata": {}
        }
      ]
    },
    {
      "cell_type": "code",
      "source": [
        "scaler = StandardScaler()\n",
        "X_rescaled_nd = scaler.fit_transform (X_resampled)\n",
        "X_train_nd, X_test_nd, y_train_nd, y_test_nd = train_test_split(X_rescaled_nd, y_resampled, test_size=0.20, random_state=42)"
      ],
      "metadata": {
        "id": "Qdi_g6afrHYC"
      },
      "id": "Qdi_g6afrHYC",
      "execution_count": 85,
      "outputs": []
    },
    {
      "cell_type": "code",
      "source": [
        "coral = KNeighborsClassifier(n_neighbors=3, weights='uniform', algorithm='auto', leaf_size=20,)\n",
        "coral.fit(X_train_nd, y_train_nd)\n",
        "\n",
        "coral_prediction = coral.predict(X_test_nd)\n",
        "\n",
        "print(\"Classification Report:\")\n",
        "print(classification_report(y_test_nd, coral_prediction, target_names=['Class 0', 'Class 1']))\n",
        "\n",
        "accuracy = accuracy_score(y_test_nd, coral_prediction)\n",
        "print(\"Accuracy Score:\", accuracy)\n",
        "\n",
        "precision = precision_score(y_test_nd, coral_prediction)\n",
        "print(\"Precision Score:\", precision)\n",
        "\n",
        "f1 = f1_score(y_test_nd, coral_prediction, average='weighted')\n",
        "print(\"F1 Score:\", f1)\n",
        "\n",
        "recall = recall_score(y_test_nd, coral_prediction)\n",
        "print(\"Recall Per Class:\", recall)\n",
        "\n",
        "roc_auc = roc_auc_score(y_test_nd, coral_prediction)\n",
        "print(\"ROC-AUC Score:\", roc_auc)\n",
        "\n",
        "conf_matrix = confusion_matrix(y_test_nd, coral_prediction)\n",
        "print(\"Confusion Matrix:\\n\", conf_matrix)\n",
        "\n",
        "plt.figure(figsize=(8, 6))\n",
        "sns.heatmap(conf_matrix, annot=True, fmt='d', cmap='Blues', cbar=False,\n",
        "            xticklabels=['Predicted 0', 'Predicted 1'],\n",
        "            yticklabels=['Actual 0', 'Actual 1'])\n",
        "plt.xlabel('Predicted label')\n",
        "plt.ylabel('True label')\n",
        "plt.title('Confusion Matrix')\n",
        "plt.show()"
      ],
      "metadata": {
        "colab": {
          "base_uri": "https://localhost:8080/",
          "height": 885
        },
        "id": "-joujrRXseDM",
        "outputId": "e1d1ebd6-5431-48c2-a201-91246be2b505"
      },
      "id": "-joujrRXseDM",
      "execution_count": 97,
      "outputs": [
        {
          "output_type": "stream",
          "name": "stdout",
          "text": [
            "Classification Report:\n",
            "              precision    recall  f1-score   support\n",
            "\n",
            "     Class 0       0.87      0.83      0.85       592\n",
            "     Class 1       0.82      0.86      0.84       532\n",
            "\n",
            "    accuracy                           0.85      1124\n",
            "   macro avg       0.85      0.85      0.85      1124\n",
            "weighted avg       0.85      0.85      0.85      1124\n",
            "\n",
            "Accuracy Score: 0.8469750889679716\n",
            "Precision Score: 0.8225806451612904\n",
            "F1 Score: 0.8470822604763871\n",
            "Recall Per Class: 0.8627819548872181\n",
            "ROC-AUC Score: 0.8477761125787443\n",
            "Confusion Matrix:\n",
            " [[493  99]\n",
            " [ 73 459]]\n"
          ]
        },
        {
          "output_type": "display_data",
          "data": {
            "text/plain": [
              "<Figure size 800x600 with 1 Axes>"
            ],
            "image/png": "[encoded data removed]"
          },
          "metadata": {}
        }
      ]
    },
    {
      "cell_type": "markdown",
      "metadata": {
        "id": "a-IVhi03iVAO"
      },
      "source": [
        "# NAIVE BAYES"
      ],
      "id": "a-IVhi03iVAO"
    },
    {
      "cell_type": "markdown",
      "metadata": {
        "id": "M85C09gfiVAO"
      },
      "source": [
        "# SVM\n",
        "## Linear\n",
        "## Non Linear\n"
      ],
      "id": "M85C09gfiVAO"
    }
  ],
  "metadata": {
    "kernelspec": {
      "display_name": "Python 3 (ipykernel)",
      "language": "python",
      "name": "python3"
    },
    "language_info": {
      "codemirror_mode": {
        "name": "ipython",
        "version": 3
      },
      "file_extension": ".py",
      "mimetype": "text/x-python",
      "name": "python",
      "nbconvert_exporter": "python",
      "pygments_lexer": "ipython3",
      "version": "3.10.7"
    },
    "colab": {
      "provenance": []
    }
  },
  "nbformat": 4,
  "nbformat_minor": 5
}